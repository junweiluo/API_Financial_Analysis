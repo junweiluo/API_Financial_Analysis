{
 "cells": [
  {
   "cell_type": "code",
   "execution_count": 98,
   "metadata": {},
   "outputs": [],
   "source": [
    "import numpy as np\n",
    "import pandas as pd\n",
    "from datetime import datetime, timedelta\n",
    "import matplotlib.pyplot as plt\n",
    "%matplotlib inline"
   ]
  },
  {
   "cell_type": "code",
   "execution_count": 99,
   "metadata": {},
   "outputs": [],
   "source": [
    "np.random.seed(42)"
   ]
  },
  {
   "cell_type": "markdown",
   "metadata": {},
   "source": [
    "# Portfolio Planner\n",
    "\n",
    "In this activity, you will use the iexfinance api to grab historical data for a 60/40 portfolio using `SPY` to represent the stock portion and `AGG` to represent the bonds."
   ]
  },
  {
   "cell_type": "code",
   "execution_count": 100,
   "metadata": {},
   "outputs": [],
   "source": [
    "from iexfinance.stocks import get_historical_data\n",
    "import iexfinance as iex"
   ]
  },
  {
   "cell_type": "markdown",
   "metadata": {},
   "source": [
    "# Data Collection\n",
    "\n",
    "In this step, you will need to use the IEX api to fetch closing prices for the `SPY` and `AGG` tickers. Save the results as a pandas DataFrame"
   ]
  },
  {
   "cell_type": "code",
   "execution_count": 101,
   "metadata": {},
   "outputs": [],
   "source": [
    "list_of_tickers = [\"SPY\", \"AGG\"]\n",
    "# YOUR CODE HERE\n",
    "# comment the downloading and to_pickle of transaction data unless we need to use it again.  I will take 3 years instead of 1.\n",
    "#df = get_historical_data(list_of_tickers, output_format='pandas', start = '2017-01-01', end = '2019-12-31', close_only = True, volume= False)\n",
    "#df.to_pickle(\"./iex3years\")"
   ]
  },
  {
   "cell_type": "code",
   "execution_count": 102,
   "metadata": {},
   "outputs": [
    {
     "data": {
      "text/html": [
       "<div>\n",
       "<style scoped>\n",
       "    .dataframe tbody tr th:only-of-type {\n",
       "        vertical-align: middle;\n",
       "    }\n",
       "\n",
       "    .dataframe tbody tr th {\n",
       "        vertical-align: top;\n",
       "    }\n",
       "\n",
       "    .dataframe thead th {\n",
       "        text-align: right;\n",
       "    }\n",
       "</style>\n",
       "<table border=\"1\" class=\"dataframe\">\n",
       "  <thead>\n",
       "    <tr style=\"text-align: right;\">\n",
       "      <th></th>\n",
       "      <th>SPY</th>\n",
       "      <th>AGG</th>\n",
       "    </tr>\n",
       "    <tr>\n",
       "      <th>date</th>\n",
       "      <th></th>\n",
       "      <th></th>\n",
       "    </tr>\n",
       "  </thead>\n",
       "  <tbody>\n",
       "    <tr>\n",
       "      <th>2017-01-03</th>\n",
       "      <td>225.24</td>\n",
       "      <td>108.17</td>\n",
       "    </tr>\n",
       "    <tr>\n",
       "      <th>2017-01-04</th>\n",
       "      <td>226.58</td>\n",
       "      <td>108.20</td>\n",
       "    </tr>\n",
       "    <tr>\n",
       "      <th>2017-01-05</th>\n",
       "      <td>226.40</td>\n",
       "      <td>108.65</td>\n",
       "    </tr>\n",
       "    <tr>\n",
       "      <th>2017-01-06</th>\n",
       "      <td>227.21</td>\n",
       "      <td>108.29</td>\n",
       "    </tr>\n",
       "    <tr>\n",
       "      <th>2017-01-09</th>\n",
       "      <td>226.46</td>\n",
       "      <td>108.47</td>\n",
       "    </tr>\n",
       "  </tbody>\n",
       "</table>\n",
       "</div>"
      ],
      "text/plain": [
       "               SPY     AGG\n",
       "date                      \n",
       "2017-01-03  225.24  108.17\n",
       "2017-01-04  226.58  108.20\n",
       "2017-01-05  226.40  108.65\n",
       "2017-01-06  227.21  108.29\n",
       "2017-01-09  226.46  108.47"
      ]
     },
     "execution_count": 102,
     "metadata": {},
     "output_type": "execute_result"
    }
   ],
   "source": [
    "iex_df = pd.read_pickle(\"./iex3years\")\n",
    "iex_df.drop(columns=['volume'], level=1, inplace=True)\n",
    "iex_df.columns = iex_df.columns.droplevel(1)\n",
    "iex_df.sort_index(ascending = True, inplace = True)\n",
    "iex_df.head(5)"
   ]
  },
  {
   "cell_type": "markdown",
   "metadata": {},
   "source": [
    "# Monte Carlo Simulation\n",
    "\n",
    "In this step, you will run Monte Carlo Simulations for your portfolio to model portfolio performance at different retirement ages. \n",
    "\n",
    "Complete the following steps:\n",
    "1. Calculate the daily returns for the SPY and AGG closing prices.\n",
    "2. Calculate volatility for both the SPY and AGG closing prices.\n",
    "3. Find the last day's closing price for both stocks and save those as variables.\n",
    "4. Run a Monte Carlo Simulation of at least 500 iterations and generate at least 30 years of closing prices\n",
    "\n",
    "### HINTS:\n",
    "There are 252 trading days per year, so the number of records to generate for each Monte Carlo run will be 252 days * 30 years"
   ]
  },
  {
   "cell_type": "code",
   "execution_count": 105,
   "metadata": {},
   "outputs": [
    {
     "data": {
      "text/html": [
       "<div>\n",
       "<style scoped>\n",
       "    .dataframe tbody tr th:only-of-type {\n",
       "        vertical-align: middle;\n",
       "    }\n",
       "\n",
       "    .dataframe tbody tr th {\n",
       "        vertical-align: top;\n",
       "    }\n",
       "\n",
       "    .dataframe thead th {\n",
       "        text-align: right;\n",
       "    }\n",
       "</style>\n",
       "<table border=\"1\" class=\"dataframe\">\n",
       "  <thead>\n",
       "    <tr style=\"text-align: right;\">\n",
       "      <th></th>\n",
       "      <th>SPY</th>\n",
       "      <th>AGG</th>\n",
       "    </tr>\n",
       "    <tr>\n",
       "      <th>date</th>\n",
       "      <th></th>\n",
       "      <th></th>\n",
       "    </tr>\n",
       "  </thead>\n",
       "  <tbody>\n",
       "    <tr>\n",
       "      <th>2017-01-04</th>\n",
       "      <td>0.005949</td>\n",
       "      <td>0.000277</td>\n",
       "    </tr>\n",
       "    <tr>\n",
       "      <th>2017-01-05</th>\n",
       "      <td>-0.000794</td>\n",
       "      <td>0.004159</td>\n",
       "    </tr>\n",
       "    <tr>\n",
       "      <th>2017-01-06</th>\n",
       "      <td>0.003578</td>\n",
       "      <td>-0.003313</td>\n",
       "    </tr>\n",
       "    <tr>\n",
       "      <th>2017-01-09</th>\n",
       "      <td>-0.003301</td>\n",
       "      <td>0.001662</td>\n",
       "    </tr>\n",
       "    <tr>\n",
       "      <th>2017-01-10</th>\n",
       "      <td>0.000000</td>\n",
       "      <td>-0.000277</td>\n",
       "    </tr>\n",
       "  </tbody>\n",
       "</table>\n",
       "</div>"
      ],
      "text/plain": [
       "                 SPY       AGG\n",
       "date                          \n",
       "2017-01-04  0.005949  0.000277\n",
       "2017-01-05 -0.000794  0.004159\n",
       "2017-01-06  0.003578 -0.003313\n",
       "2017-01-09 -0.003301  0.001662\n",
       "2017-01-10  0.000000 -0.000277"
      ]
     },
     "execution_count": 105,
     "metadata": {},
     "output_type": "execute_result"
    }
   ],
   "source": [
    "# Calculate the daily roi for the stocks\n",
    "# YOUR CODE HERE\n",
    "daily_return = iex_df.pct_change().dropna()\n",
    "daily_return.head()"
   ]
  },
  {
   "cell_type": "code",
   "execution_count": 122,
   "metadata": {},
   "outputs": [
    {
     "data": {
      "text/plain": [
       "SPY    0.008114\n",
       "AGG    0.001879\n",
       "dtype: float64"
      ]
     },
     "execution_count": 122,
     "metadata": {},
     "output_type": "execute_result"
    }
   ],
   "source": [
    "# Calculate volatility\n",
    "# YOUR CODE HERE\n",
    "daily_std = daily_return.std()\n",
    "daily_std"
   ]
  },
  {
   "cell_type": "code",
   "execution_count": 107,
   "metadata": {},
   "outputs": [
    {
     "data": {
      "text/plain": [
       "SPY    321.86\n",
       "AGG    112.37\n",
       "Name: 2019-12-31 00:00:00, dtype: float64"
      ]
     },
     "execution_count": 107,
     "metadata": {},
     "output_type": "execute_result"
    }
   ],
   "source": [
    "# Save the last day's closing price\n",
    "# YOUR CODE HERE\n",
    "last_day_price = iex_df.iloc[-1] # in later calculation, last closing price is not relevant.\n",
    "last_day_price"
   ]
  },
  {
   "cell_type": "code",
   "execution_count": 142,
   "metadata": {},
   "outputs": [
    {
     "data": {
      "text/html": [
       "<div>\n",
       "<style scoped>\n",
       "    .dataframe tbody tr th:only-of-type {\n",
       "        vertical-align: middle;\n",
       "    }\n",
       "\n",
       "    .dataframe tbody tr th {\n",
       "        vertical-align: top;\n",
       "    }\n",
       "\n",
       "    .dataframe thead th {\n",
       "        text-align: right;\n",
       "    }\n",
       "</style>\n",
       "<table border=\"1\" class=\"dataframe\">\n",
       "  <thead>\n",
       "    <tr style=\"text-align: right;\">\n",
       "      <th></th>\n",
       "      <th>0</th>\n",
       "      <th>1</th>\n",
       "      <th>2</th>\n",
       "      <th>3</th>\n",
       "      <th>4</th>\n",
       "      <th>5</th>\n",
       "      <th>6</th>\n",
       "      <th>7</th>\n",
       "      <th>8</th>\n",
       "      <th>9</th>\n",
       "      <th>...</th>\n",
       "      <th>490</th>\n",
       "      <th>491</th>\n",
       "      <th>492</th>\n",
       "      <th>493</th>\n",
       "      <th>494</th>\n",
       "      <th>495</th>\n",
       "      <th>496</th>\n",
       "      <th>497</th>\n",
       "      <th>498</th>\n",
       "      <th>499</th>\n",
       "    </tr>\n",
       "  </thead>\n",
       "  <tbody>\n",
       "    <tr>\n",
       "      <th>0</th>\n",
       "      <td>1.001889</td>\n",
       "      <td>0.996177</td>\n",
       "      <td>0.996200</td>\n",
       "      <td>1.001302</td>\n",
       "      <td>0.999066</td>\n",
       "      <td>0.993803</td>\n",
       "      <td>1.002189</td>\n",
       "      <td>1.007055</td>\n",
       "      <td>1.004795</td>\n",
       "      <td>1.010249</td>\n",
       "      <td>...</td>\n",
       "      <td>0.997700</td>\n",
       "      <td>1.003669</td>\n",
       "      <td>0.998770</td>\n",
       "      <td>1.000179</td>\n",
       "      <td>1.006695</td>\n",
       "      <td>1.005999</td>\n",
       "      <td>0.994020</td>\n",
       "      <td>1.001772</td>\n",
       "      <td>1.000185</td>\n",
       "      <td>0.999090</td>\n",
       "    </tr>\n",
       "    <tr>\n",
       "      <th>1</th>\n",
       "      <td>1.000646</td>\n",
       "      <td>0.990122</td>\n",
       "      <td>1.007258</td>\n",
       "      <td>1.004757</td>\n",
       "      <td>0.999660</td>\n",
       "      <td>0.987390</td>\n",
       "      <td>0.999152</td>\n",
       "      <td>1.000858</td>\n",
       "      <td>1.011952</td>\n",
       "      <td>1.008766</td>\n",
       "      <td>...</td>\n",
       "      <td>1.007843</td>\n",
       "      <td>0.997901</td>\n",
       "      <td>0.996040</td>\n",
       "      <td>1.005467</td>\n",
       "      <td>1.013741</td>\n",
       "      <td>1.006232</td>\n",
       "      <td>0.985998</td>\n",
       "      <td>0.999115</td>\n",
       "      <td>1.001996</td>\n",
       "      <td>0.988146</td>\n",
       "    </tr>\n",
       "    <tr>\n",
       "      <th>2</th>\n",
       "      <td>0.987563</td>\n",
       "      <td>0.992321</td>\n",
       "      <td>1.008569</td>\n",
       "      <td>0.997911</td>\n",
       "      <td>0.998070</td>\n",
       "      <td>0.988581</td>\n",
       "      <td>0.995759</td>\n",
       "      <td>0.993913</td>\n",
       "      <td>1.003999</td>\n",
       "      <td>1.008602</td>\n",
       "      <td>...</td>\n",
       "      <td>1.007961</td>\n",
       "      <td>1.003897</td>\n",
       "      <td>0.985218</td>\n",
       "      <td>0.998439</td>\n",
       "      <td>1.010870</td>\n",
       "      <td>1.000866</td>\n",
       "      <td>0.985756</td>\n",
       "      <td>0.990923</td>\n",
       "      <td>1.000760</td>\n",
       "      <td>0.989919</td>\n",
       "    </tr>\n",
       "    <tr>\n",
       "      <th>3</th>\n",
       "      <td>0.984842</td>\n",
       "      <td>0.998338</td>\n",
       "      <td>1.020197</td>\n",
       "      <td>0.997998</td>\n",
       "      <td>0.995568</td>\n",
       "      <td>0.987399</td>\n",
       "      <td>0.995688</td>\n",
       "      <td>0.996233</td>\n",
       "      <td>1.001720</td>\n",
       "      <td>1.018108</td>\n",
       "      <td>...</td>\n",
       "      <td>0.999678</td>\n",
       "      <td>1.001877</td>\n",
       "      <td>0.987116</td>\n",
       "      <td>0.992469</td>\n",
       "      <td>1.016201</td>\n",
       "      <td>0.999819</td>\n",
       "      <td>0.989973</td>\n",
       "      <td>0.986878</td>\n",
       "      <td>1.006810</td>\n",
       "      <td>0.987301</td>\n",
       "    </tr>\n",
       "    <tr>\n",
       "      <th>4</th>\n",
       "      <td>0.982087</td>\n",
       "      <td>0.998520</td>\n",
       "      <td>1.027065</td>\n",
       "      <td>0.990264</td>\n",
       "      <td>0.990422</td>\n",
       "      <td>0.980724</td>\n",
       "      <td>0.998385</td>\n",
       "      <td>0.990229</td>\n",
       "      <td>0.998019</td>\n",
       "      <td>1.012062</td>\n",
       "      <td>...</td>\n",
       "      <td>0.992928</td>\n",
       "      <td>1.005285</td>\n",
       "      <td>0.986471</td>\n",
       "      <td>0.982568</td>\n",
       "      <td>1.014198</td>\n",
       "      <td>1.002809</td>\n",
       "      <td>0.991036</td>\n",
       "      <td>0.996997</td>\n",
       "      <td>1.009036</td>\n",
       "      <td>0.991665</td>\n",
       "    </tr>\n",
       "    <tr>\n",
       "      <th>...</th>\n",
       "      <td>...</td>\n",
       "      <td>...</td>\n",
       "      <td>...</td>\n",
       "      <td>...</td>\n",
       "      <td>...</td>\n",
       "      <td>...</td>\n",
       "      <td>...</td>\n",
       "      <td>...</td>\n",
       "      <td>...</td>\n",
       "      <td>...</td>\n",
       "      <td>...</td>\n",
       "      <td>...</td>\n",
       "      <td>...</td>\n",
       "      <td>...</td>\n",
       "      <td>...</td>\n",
       "      <td>...</td>\n",
       "      <td>...</td>\n",
       "      <td>...</td>\n",
       "      <td>...</td>\n",
       "      <td>...</td>\n",
       "      <td>...</td>\n",
       "    </tr>\n",
       "    <tr>\n",
       "      <th>7555</th>\n",
       "      <td>25.121380</td>\n",
       "      <td>28.816612</td>\n",
       "      <td>5.411092</td>\n",
       "      <td>11.969224</td>\n",
       "      <td>22.750700</td>\n",
       "      <td>32.759718</td>\n",
       "      <td>25.938666</td>\n",
       "      <td>4.446767</td>\n",
       "      <td>3.791483</td>\n",
       "      <td>16.796960</td>\n",
       "      <td>...</td>\n",
       "      <td>85.439295</td>\n",
       "      <td>6.170953</td>\n",
       "      <td>16.789079</td>\n",
       "      <td>15.200878</td>\n",
       "      <td>13.504953</td>\n",
       "      <td>19.236492</td>\n",
       "      <td>49.893471</td>\n",
       "      <td>11.568093</td>\n",
       "      <td>17.458852</td>\n",
       "      <td>6.524404</td>\n",
       "    </tr>\n",
       "    <tr>\n",
       "      <th>7556</th>\n",
       "      <td>24.987163</td>\n",
       "      <td>28.745450</td>\n",
       "      <td>5.418906</td>\n",
       "      <td>11.954650</td>\n",
       "      <td>22.873411</td>\n",
       "      <td>32.836908</td>\n",
       "      <td>25.970915</td>\n",
       "      <td>4.470314</td>\n",
       "      <td>3.763956</td>\n",
       "      <td>16.813714</td>\n",
       "      <td>...</td>\n",
       "      <td>84.264079</td>\n",
       "      <td>6.229800</td>\n",
       "      <td>17.008006</td>\n",
       "      <td>15.295244</td>\n",
       "      <td>13.534179</td>\n",
       "      <td>19.539421</td>\n",
       "      <td>49.475266</td>\n",
       "      <td>11.577472</td>\n",
       "      <td>17.520600</td>\n",
       "      <td>6.453238</td>\n",
       "    </tr>\n",
       "    <tr>\n",
       "      <th>7557</th>\n",
       "      <td>25.409832</td>\n",
       "      <td>29.311517</td>\n",
       "      <td>5.457571</td>\n",
       "      <td>11.848642</td>\n",
       "      <td>22.658892</td>\n",
       "      <td>32.518277</td>\n",
       "      <td>25.957510</td>\n",
       "      <td>4.453293</td>\n",
       "      <td>3.768228</td>\n",
       "      <td>16.915449</td>\n",
       "      <td>...</td>\n",
       "      <td>84.605267</td>\n",
       "      <td>6.227126</td>\n",
       "      <td>17.041552</td>\n",
       "      <td>15.260831</td>\n",
       "      <td>13.753137</td>\n",
       "      <td>19.584616</td>\n",
       "      <td>49.189971</td>\n",
       "      <td>11.414443</td>\n",
       "      <td>17.564626</td>\n",
       "      <td>6.423815</td>\n",
       "    </tr>\n",
       "    <tr>\n",
       "      <th>7558</th>\n",
       "      <td>25.037048</td>\n",
       "      <td>29.711454</td>\n",
       "      <td>5.443903</td>\n",
       "      <td>11.864297</td>\n",
       "      <td>22.466297</td>\n",
       "      <td>32.897452</td>\n",
       "      <td>25.954186</td>\n",
       "      <td>4.447317</td>\n",
       "      <td>3.774122</td>\n",
       "      <td>16.819129</td>\n",
       "      <td>...</td>\n",
       "      <td>84.319127</td>\n",
       "      <td>6.224125</td>\n",
       "      <td>17.229136</td>\n",
       "      <td>15.355078</td>\n",
       "      <td>13.790797</td>\n",
       "      <td>19.947497</td>\n",
       "      <td>49.274555</td>\n",
       "      <td>11.502433</td>\n",
       "      <td>17.560377</td>\n",
       "      <td>6.461055</td>\n",
       "    </tr>\n",
       "    <tr>\n",
       "      <th>7559</th>\n",
       "      <td>25.119362</td>\n",
       "      <td>29.801176</td>\n",
       "      <td>5.428236</td>\n",
       "      <td>12.011473</td>\n",
       "      <td>22.378158</td>\n",
       "      <td>32.740793</td>\n",
       "      <td>26.137401</td>\n",
       "      <td>4.472646</td>\n",
       "      <td>3.775576</td>\n",
       "      <td>16.736952</td>\n",
       "      <td>...</td>\n",
       "      <td>84.113866</td>\n",
       "      <td>6.242861</td>\n",
       "      <td>17.185727</td>\n",
       "      <td>15.428325</td>\n",
       "      <td>13.771281</td>\n",
       "      <td>19.749476</td>\n",
       "      <td>49.508134</td>\n",
       "      <td>11.659457</td>\n",
       "      <td>17.651064</td>\n",
       "      <td>6.494041</td>\n",
       "    </tr>\n",
       "  </tbody>\n",
       "</table>\n",
       "<p>7560 rows × 500 columns</p>\n",
       "</div>"
      ],
      "text/plain": [
       "            0          1         2          3          4          5    \\\n",
       "0      1.001889   0.996177  0.996200   1.001302   0.999066   0.993803   \n",
       "1      1.000646   0.990122  1.007258   1.004757   0.999660   0.987390   \n",
       "2      0.987563   0.992321  1.008569   0.997911   0.998070   0.988581   \n",
       "3      0.984842   0.998338  1.020197   0.997998   0.995568   0.987399   \n",
       "4      0.982087   0.998520  1.027065   0.990264   0.990422   0.980724   \n",
       "...         ...        ...       ...        ...        ...        ...   \n",
       "7555  25.121380  28.816612  5.411092  11.969224  22.750700  32.759718   \n",
       "7556  24.987163  28.745450  5.418906  11.954650  22.873411  32.836908   \n",
       "7557  25.409832  29.311517  5.457571  11.848642  22.658892  32.518277   \n",
       "7558  25.037048  29.711454  5.443903  11.864297  22.466297  32.897452   \n",
       "7559  25.119362  29.801176  5.428236  12.011473  22.378158  32.740793   \n",
       "\n",
       "            6         7         8          9    ...        490       491  \\\n",
       "0      1.002189  1.007055  1.004795   1.010249  ...   0.997700  1.003669   \n",
       "1      0.999152  1.000858  1.011952   1.008766  ...   1.007843  0.997901   \n",
       "2      0.995759  0.993913  1.003999   1.008602  ...   1.007961  1.003897   \n",
       "3      0.995688  0.996233  1.001720   1.018108  ...   0.999678  1.001877   \n",
       "4      0.998385  0.990229  0.998019   1.012062  ...   0.992928  1.005285   \n",
       "...         ...       ...       ...        ...  ...        ...       ...   \n",
       "7555  25.938666  4.446767  3.791483  16.796960  ...  85.439295  6.170953   \n",
       "7556  25.970915  4.470314  3.763956  16.813714  ...  84.264079  6.229800   \n",
       "7557  25.957510  4.453293  3.768228  16.915449  ...  84.605267  6.227126   \n",
       "7558  25.954186  4.447317  3.774122  16.819129  ...  84.319127  6.224125   \n",
       "7559  26.137401  4.472646  3.775576  16.736952  ...  84.113866  6.242861   \n",
       "\n",
       "            492        493        494        495        496        497  \\\n",
       "0      0.998770   1.000179   1.006695   1.005999   0.994020   1.001772   \n",
       "1      0.996040   1.005467   1.013741   1.006232   0.985998   0.999115   \n",
       "2      0.985218   0.998439   1.010870   1.000866   0.985756   0.990923   \n",
       "3      0.987116   0.992469   1.016201   0.999819   0.989973   0.986878   \n",
       "4      0.986471   0.982568   1.014198   1.002809   0.991036   0.996997   \n",
       "...         ...        ...        ...        ...        ...        ...   \n",
       "7555  16.789079  15.200878  13.504953  19.236492  49.893471  11.568093   \n",
       "7556  17.008006  15.295244  13.534179  19.539421  49.475266  11.577472   \n",
       "7557  17.041552  15.260831  13.753137  19.584616  49.189971  11.414443   \n",
       "7558  17.229136  15.355078  13.790797  19.947497  49.274555  11.502433   \n",
       "7559  17.185727  15.428325  13.771281  19.749476  49.508134  11.659457   \n",
       "\n",
       "            498       499  \n",
       "0      1.000185  0.999090  \n",
       "1      1.001996  0.988146  \n",
       "2      1.000760  0.989919  \n",
       "3      1.006810  0.987301  \n",
       "4      1.009036  0.991665  \n",
       "...         ...       ...  \n",
       "7555  17.458852  6.524404  \n",
       "7556  17.520600  6.453238  \n",
       "7557  17.564626  6.423815  \n",
       "7558  17.560377  6.461055  \n",
       "7559  17.651064  6.494041  \n",
       "\n",
       "[7560 rows x 500 columns]"
      ]
     },
     "execution_count": 142,
     "metadata": {},
     "output_type": "execute_result"
    }
   ],
   "source": [
    "# If my portfolio is $1, my portfolio should invest $.6 into SPY and $0.4 into AGG no matter what the latest price is:\n",
    "# Therefore, last closing price is not relevant.  The only thing relevant is mean and std of daily return.\n",
    "SPY_sim = np.random.normal(daily_return.mean()[0], daily_std[0],252*30*500).reshape(252*30,500)\n",
    "AGG_sim = np.random.normal(daily_return.mean()[1], daily_std[1],252*30*500).reshape(252*30,500)\n",
    "# I assume there is no rebalancing everyday and so I do cumprod before combining two stocks.  \n",
    "# Otherwise, combine daily return (SPY_sim/AGG_sim) first then cumprod:\n",
    "# Portfolio_return = SPY_sim *0.6 + AGG_sim *0.4\n",
    "# Portfolio_30_year = np.cumprod(Portfolio_return + 1)\n",
    "Portfolio_30_year = np.cumprod(SPY_sim+1, axis = 0)*0.6 + np.cumprod(AGG_sim+1, axis = 0)*0.4\n",
    "Portfolio_30_year_simulation = pd.DataFrame(Portfolio_30_year)\n",
    "Portfolio_30_year_simulation"
   ]
  },
  {
   "cell_type": "code",
   "execution_count": 143,
   "metadata": {},
   "outputs": [],
   "source": [
    "# Setup the Monte Carlo Parameters\n",
    "# ## No need to go through nested loops.\n",
    "# number_simulations = 500\n",
    "# number_records = 252 * 30\n",
    "# monte_carlo = pd.DataFrame()\n",
    "# ##"
   ]
  },
  {
   "cell_type": "code",
   "execution_count": 144,
   "metadata": {},
   "outputs": [],
   "source": [
    "# Run the Monte Carlo Simulation\n",
    "#for x in range(number_simulations):\n",
    "    \n",
    "    # YOUR CODE HERE"
   ]
  },
  {
   "cell_type": "code",
   "execution_count": 146,
   "metadata": {},
   "outputs": [
    {
     "data": {
      "text/plain": [
       "<matplotlib.axes._subplots.AxesSubplot at 0x1406ec690>"
      ]
     },
     "execution_count": 146,
     "metadata": {},
     "output_type": "execute_result"
    },
    {
     "data": {
      "image/png": "[encoded data removed]",
      "text/plain": [
       "<Figure size 720x360 with 1 Axes>"
      ]
     },
     "metadata": {
      "needs_background": "light"
     },
     "output_type": "display_data"
    }
   ],
   "source": [
    "# Visualize the Simulation\n",
    "# YOUR CODE HERE\n",
    "Portfolio_30_year_simulation.plot(legend = False, title = \"Portfolio 60 SPY / 40 AGG: $1\", figsize = (10,5))"
   ]
  },
  {
   "cell_type": "code",
   "execution_count": 149,
   "metadata": {},
   "outputs": [
    {
     "data": {
      "text/plain": [
       "0      25.119362\n",
       "1      29.801176\n",
       "2       5.428236\n",
       "3      12.011473\n",
       "4      22.378158\n",
       "         ...    \n",
       "495    19.749476\n",
       "496    49.508134\n",
       "497    11.659457\n",
       "498    17.651064\n",
       "499     6.494041\n",
       "Name: 7559, Length: 500, dtype: float64"
      ]
     },
     "execution_count": 149,
     "metadata": {},
     "output_type": "execute_result"
    }
   ],
   "source": [
    "# Select the last row for the cumulative returns (cumulative returns at 30 years)\n",
    "# YOUR CODE HERE\n",
    "simulation_ending_price_30 = Portfolio_30_year_simulation.iloc[-1]\n",
    "simulation_ending_price_30"
   ]
  },
  {
   "cell_type": "code",
   "execution_count": 150,
   "metadata": {},
   "outputs": [
    {
     "data": {
      "text/plain": [
       "0       6.631545\n",
       "1       7.202356\n",
       "2       2.682349\n",
       "3       3.299132\n",
       "4       7.312170\n",
       "         ...    \n",
       "495     9.417318\n",
       "496    12.015403\n",
       "497     3.431930\n",
       "498     4.391593\n",
       "499     2.305049\n",
       "Name: 5039, Length: 500, dtype: float64"
      ]
     },
     "execution_count": 150,
     "metadata": {},
     "output_type": "execute_result"
    }
   ],
   "source": [
    "# Select the last row for the cumulative returns (cumulative returns at 20 years)\n",
    "# YOUR CODE HERE\n",
    "simulation_ending_price_20 = Portfolio_30_year_simulation.iloc[252*20-1]\n",
    "simulation_ending_price_20"
   ]
  },
  {
   "cell_type": "code",
   "execution_count": 151,
   "metadata": {},
   "outputs": [
    {
     "name": "stdout",
     "output_type": "stream",
     "text": [
      "The 90% confidence interval of 30-year ending price for $1 investment in portfolio is between $7 and $71.\n"
     ]
    }
   ],
   "source": [
    "# Display the 90% confidence interval for the ending returns\n",
    "# YOUR CODE HERE\n",
    "quantile_result = simulation_ending_price_30.quantile(q=[0.05, 0.95])\n",
    "print(f\"The 90% confidence interval of 30-year ending price for $1 investment in portfolio \\\n",
    "is between ${int(quantile_result[0.05])} and ${int(quantile_result[.95])}.\")"
   ]
  },
  {
   "cell_type": "code",
   "execution_count": 152,
   "metadata": {},
   "outputs": [
    {
     "data": {
      "text/plain": [
       "<matplotlib.axes._subplots.AxesSubplot at 0x12dbe0fd0>"
      ]
     },
     "execution_count": 152,
     "metadata": {},
     "output_type": "execute_result"
    },
    {
     "data": {
      "image/png": "[encoded data removed]",
      "text/plain": [
       "<Figure size 432x288 with 1 Axes>"
      ]
     },
     "metadata": {
      "needs_background": "light"
     },
     "output_type": "display_data"
    }
   ],
   "source": [
    "# Visualize the distribution of the ending returns\n",
    "# YOUR CODE HERE\n",
    "simulation_ending_price_30.hist()"
   ]
  },
  {
   "cell_type": "markdown",
   "metadata": {},
   "source": [
    "---"
   ]
  },
  {
   "cell_type": "markdown",
   "metadata": {},
   "source": [
    "# Retirement Analysis\n",
    "\n",
    "In this section, you will use the monte carlo model to answer the following retirement planning questions:\n",
    "\n",
    "1. What are the expected cumulative returns at 30 years for the 10th, 50th, and 90th percentiles?\n",
    "2. Given an initial investment of `$20,000`, what is the expected portfolio return in dollars at the 10th, 50th, and 90th percentiles?\n",
    "3. Given the current projected annual income from the Plaid analysis, will a 4% withdraw rate from the retirement portfolio meet or exceed that value at the 10th percentile?\n",
    "4. How would a 50% increase in the initial investment amount affect the 4% retirement withdrawal?"
   ]
  },
  {
   "cell_type": "markdown",
   "metadata": {},
   "source": [
    "### What are the expected cumulative returns at 30 years for the 10th, 50th, and 90th percentiles?"
   ]
  },
  {
   "cell_type": "code",
   "execution_count": 160,
   "metadata": {},
   "outputs": [],
   "source": [
    "# YOUR CODE HERE\n",
    "quantile_10_50_90=simulation_ending_price_30.quantile(q = [0.10,0.50,0.90])"
   ]
  },
  {
   "cell_type": "markdown",
   "metadata": {},
   "source": [
    "### Given an initial investment of `$20,000`, what is the expected portfolio return in dollars at the 10th, 50th, and 90th percentiles?"
   ]
  },
  {
   "cell_type": "code",
   "execution_count": 161,
   "metadata": {},
   "outputs": [
    {
     "data": {
      "text/plain": [
       "0.1     183090\n",
       "0.5     435998\n",
       "0.9    1016459\n",
       "Name: 7559, dtype: int64"
      ]
     },
     "execution_count": 161,
     "metadata": {},
     "output_type": "execute_result"
    }
   ],
   "source": [
    "# YOUR CODE HERE\n",
    "return_10_50_90 = quantile_10_50_90*20000\n",
    "return_10_50_90.astype(int)"
   ]
  },
  {
   "cell_type": "markdown",
   "metadata": {},
   "source": [
    "### Given the current projected annual income from the Plaid analysis, will a 4% withdraw rate from the retirement portfolio meet or exceed that value at the 10th percentile?\n",
    "\n",
    "Note: This is effectively saying that 90% of the expected returns will be greater than the return at the 10th percentile, so this can help measure the uncertainty about having enough funds at retirement"
   ]
  },
  {
   "cell_type": "code",
   "execution_count": null,
   "metadata": {},
   "outputs": [],
   "source": [
    "# YOUR CODE HERE"
   ]
  },
  {
   "cell_type": "markdown",
   "metadata": {},
   "source": [
    "### How would a 50% increase in the initial investment amount affect the 4% retirement withdrawal?"
   ]
  },
  {
   "cell_type": "code",
   "execution_count": null,
   "metadata": {},
   "outputs": [],
   "source": [
    "# YOUR CODE HERE"
   ]
  },
  {
   "cell_type": "markdown",
   "metadata": {},
   "source": [
    "### Optional Challenge\n",
    "\n",
    "In this section, you will calculate and plot the cumulative returns for the median and 90% confidence intervals. This plot shows the expected cumulative returns for any given day between the first day and the last day of investment. "
   ]
  },
  {
   "cell_type": "code",
   "execution_count": null,
   "metadata": {},
   "outputs": [],
   "source": [
    "# YOUR CODE HERE"
   ]
  }
 ],
 "metadata": {
  "kernel_info": {
   "name": "dev"
  },
  "kernelspec": {
   "display_name": "Python 3",
   "language": "python",
   "name": "python3"
  },
  "language_info": {
   "codemirror_mode": {
    "name": "ipython",
    "version": 3
   },
   "file_extension": ".py",
   "mimetype": "text/x-python",
   "name": "python",
   "nbconvert_exporter": "python",
   "pygments_lexer": "ipython3",
   "version": "3.7.4"
  },
  "nteract": {
   "version": "0.12.3"
  }
 },
 "nbformat": 4,
 "nbformat_minor": 4
}
