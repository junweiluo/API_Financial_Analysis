{
 "cells": [
  {
   "cell_type": "code",
   "execution_count": 1,
   "metadata": {},
   "outputs": [],
   "source": [
    "import os\n",
    "import plaid\n",
    "import requests\n",
    "import datetime\n",
    "import json\n",
    "import pandas as pd\n",
    "%matplotlib inline"
   ]
  },
  {
   "cell_type": "code",
   "execution_count": 2,
   "metadata": {},
   "outputs": [],
   "source": [
    "def pretty_print_response(response):\n",
    "  print(json.dumps(response, indent=4, sort_keys=True))"
   ]
  },
  {
   "cell_type": "code",
   "execution_count": 3,
   "metadata": {},
   "outputs": [
    {
     "data": {
      "text/plain": [
       "str"
      ]
     },
     "execution_count": 3,
     "metadata": {},
     "output_type": "execute_result"
    }
   ],
   "source": [
    "PLAID_CLIENT_ID = os.getenv('PLAID_CLIENT_ID')\n",
    "PLAID_PUBLIC_KEY = os.getenv('PLAID_PUBLIC_KEY')\n",
    "PLAID_SBX_SECRET_KEY = os.getenv('PLAID_SBX_SECRET_KEY')\n",
    "\n",
    "#next 3 variables not needed in Sandbox\n",
    "#PLAID_SECRET = os.getenv('PLAID_SECRET')\n",
    "#PLAID_ENV = os.getenv('PLAID_ENV', 'sandbox')\n",
    "#PLAID_PRODUCTS = os.getenv('PLAID_PRODUCTS', 'transactions')\n",
    "type(PLAID_CLIENT_ID)"
   ]
  },
  {
   "cell_type": "markdown",
   "metadata": {},
   "source": [
    "# Plaid Access Token\n",
    "\n",
    "In this section, you will use the plaid-python api to generate the correct authentication tokens to access data in the free developer Sandbox. This mimics how you might connect to your own account or a customer account, but due to privacy issues, this homework will only require connecting to and analyzing the fake data from the developer sandbox that Plaid provides. \n",
    "\n",
    "Complete the following steps to generate an access token:\n",
    "1. Create a client to connect to plaid\n",
    "2. Use the client to generate a public token and request the following items: \n",
    "['transactions', 'income', 'assets']\n",
    "3. Exchange the public token for an access token\n",
    "4. Test the access token by requesting and printing the available test accounts"
   ]
  },
  {
   "cell_type": "markdown",
   "metadata": {},
   "source": [
    "### 1. Create a client to connect to plaid"
   ]
  },
  {
   "cell_type": "code",
   "execution_count": 4,
   "metadata": {},
   "outputs": [],
   "source": [
    "INSTITUTION_ID = \"ins_109508\""
   ]
  },
  {
   "cell_type": "code",
   "execution_count": 5,
   "metadata": {},
   "outputs": [
    {
     "data": {
      "text/plain": [
       "{'institutions': [{'country_codes': ['CA'],\n",
       "   'credentials': [{'label': 'Login ID', 'name': 'username', 'type': 'text'},\n",
       "    {'label': 'Access Code (PAC)', 'name': 'password', 'type': 'password'}],\n",
       "   'has_mfa': True,\n",
       "   'input_spec': 'fixed',\n",
       "   'institution_id': 'ins_118841',\n",
       "   'mfa': ['code', 'list', 'questions', 'selections'],\n",
       "   'mfa_code_type': 'numeric',\n",
       "   'name': 'Access Credit Union - Online Banking',\n",
       "   'products': ['assets', 'balance', 'transactions', 'income', 'identity'],\n",
       "   'routing_numbers': []},\n",
       "  {'country_codes': ['GB'],\n",
       "   'credentials': [{'label': 'Username', 'name': 'username', 'type': 'text'},\n",
       "    {'label': 'Password', 'name': 'password', 'type': 'password'}],\n",
       "   'has_mfa': True,\n",
       "   'input_spec': 'fixed',\n",
       "   'institution_id': 'ins_119371',\n",
       "   'mfa': ['code', 'list', 'questions', 'selections'],\n",
       "   'mfa_code_type': 'numeric',\n",
       "   'name': 'Aegon (Online Services)',\n",
       "   'products': ['investments'],\n",
       "   'routing_numbers': []}],\n",
       " 'request_id': 'M9CvQABQzflWhgw',\n",
       " 'total': 11257}"
      ]
     },
     "execution_count": 5,
     "metadata": {},
     "output_type": "execute_result"
    }
   ],
   "source": [
    "client = plaid.Client(\n",
    "    client_id=PLAID_CLIENT_ID, \n",
    "    secret=PLAID_SBX_SECRET_KEY, \n",
    "    public_key=PLAID_PUBLIC_KEY,\n",
    "    environment='sandbox')\n",
    "client.Institutions.get(2)"
   ]
  },
  {
   "cell_type": "markdown",
   "metadata": {},
   "source": [
    "### 2. Generate a public token"
   ]
  },
  {
   "cell_type": "code",
   "execution_count": 6,
   "metadata": {},
   "outputs": [],
   "source": [
    "# YOUR CODE HERE\n",
    "create_tkn_response = client.Sandbox.public_token.create(INSTITUTION_ID, ['transactions','income'])"
   ]
  },
  {
   "cell_type": "markdown",
   "metadata": {},
   "source": [
    "### 3. Exchange the public token for an access token"
   ]
  },
  {
   "cell_type": "code",
   "execution_count": 7,
   "metadata": {},
   "outputs": [],
   "source": [
    "# YOUR CODE HERE\n",
    "exchange_response = client.Item.public_token.exchange(create_tkn_response['public_token'])\n",
    "access_token = exchange_response['access_token']"
   ]
  },
  {
   "cell_type": "markdown",
   "metadata": {},
   "source": [
    "### 4. Fetch Accounts"
   ]
  },
  {
   "cell_type": "code",
   "execution_count": 8,
   "metadata": {},
   "outputs": [
    {
     "data": {
      "text/plain": [
       "{'accounts': [{'account_id': '3eZyV1RGDKc8ekk1VozRCnNkz6EG3dFqpLlGm',\n",
       "   'balances': {'available': 100,\n",
       "    'current': 110,\n",
       "    'iso_currency_code': 'USD',\n",
       "    'limit': None,\n",
       "    'unofficial_currency_code': None},\n",
       "   'mask': '0000',\n",
       "   'name': 'Plaid Checking',\n",
       "   'official_name': 'Plaid Gold Standard 0% Interest Checking',\n",
       "   'subtype': 'checking',\n",
       "   'type': 'depository'},\n",
       "  {'account_id': 'x36ALljgZrUmR44zD6nPtXrZJyDkMQinoZ4mJ',\n",
       "   'balances': {'available': 200,\n",
       "    'current': 210,\n",
       "    'iso_currency_code': 'USD',\n",
       "    'limit': None,\n",
       "    'unofficial_currency_code': None},\n",
       "   'mask': '1111',\n",
       "   'name': 'Plaid Saving',\n",
       "   'official_name': 'Plaid Silver Standard 0.1% Interest Saving',\n",
       "   'subtype': 'savings',\n",
       "   'type': 'depository'},\n",
       "  {'account_id': 'dPRxeELDAwtvJzzlByNWSgJBDqP49aFZwqEo6',\n",
       "   'balances': {'available': None,\n",
       "    'current': 1000,\n",
       "    'iso_currency_code': 'USD',\n",
       "    'limit': None,\n",
       "    'unofficial_currency_code': None},\n",
       "   'mask': '2222',\n",
       "   'name': 'Plaid CD',\n",
       "   'official_name': 'Plaid Bronze Standard 0.2% Interest CD',\n",
       "   'subtype': 'cd',\n",
       "   'type': 'depository'},\n",
       "  {'account_id': 'aaRzJpZBLei58qqdGnPvCNwk1PWxobf7qv5pP',\n",
       "   'balances': {'available': None,\n",
       "    'current': 410,\n",
       "    'iso_currency_code': 'USD',\n",
       "    'limit': 2000,\n",
       "    'unofficial_currency_code': None},\n",
       "   'mask': '3333',\n",
       "   'name': 'Plaid Credit Card',\n",
       "   'official_name': 'Plaid Diamond 12.5% APR Interest Credit Card',\n",
       "   'subtype': 'credit card',\n",
       "   'type': 'credit'},\n",
       "  {'account_id': '4QA9wLRagrt8aRRovLeECMLXBKz9mnCdeKb89',\n",
       "   'balances': {'available': 43200,\n",
       "    'current': 43200,\n",
       "    'iso_currency_code': 'USD',\n",
       "    'limit': None,\n",
       "    'unofficial_currency_code': None},\n",
       "   'mask': '4444',\n",
       "   'name': 'Plaid Money Market',\n",
       "   'official_name': 'Plaid Platinum Standard 1.85% Interest Money Market',\n",
       "   'subtype': 'money market',\n",
       "   'type': 'depository'},\n",
       "  {'account_id': 'NQLoVKE73RtorDDzd4G5uyRXEn4m76TWvz6LV',\n",
       "   'balances': {'available': None,\n",
       "    'current': 320.76,\n",
       "    'iso_currency_code': 'USD',\n",
       "    'limit': None,\n",
       "    'unofficial_currency_code': None},\n",
       "   'mask': '5555',\n",
       "   'name': 'Plaid IRA',\n",
       "   'official_name': None,\n",
       "   'subtype': 'ira',\n",
       "   'type': 'investment'},\n",
       "  {'account_id': 'PML8RzlQdbInGDD3RP15fNQXRKPGlVf7Dn6Ej',\n",
       "   'balances': {'available': None,\n",
       "    'current': 23631.9805,\n",
       "    'iso_currency_code': 'USD',\n",
       "    'limit': None,\n",
       "    'unofficial_currency_code': None},\n",
       "   'mask': '6666',\n",
       "   'name': 'Plaid 401k',\n",
       "   'official_name': None,\n",
       "   'subtype': '401k',\n",
       "   'type': 'investment'},\n",
       "  {'account_id': 'jMRj3EWJKbIb8447WgrAuwRjZNWqy3S15jWol',\n",
       "   'balances': {'available': None,\n",
       "    'current': 65262,\n",
       "    'iso_currency_code': 'USD',\n",
       "    'limit': None,\n",
       "    'unofficial_currency_code': None},\n",
       "   'mask': '7777',\n",
       "   'name': 'Plaid Student Loan',\n",
       "   'official_name': None,\n",
       "   'subtype': 'student',\n",
       "   'type': 'loan'}],\n",
       " 'item': {'available_products': ['assets',\n",
       "   'auth',\n",
       "   'balance',\n",
       "   'credit_details',\n",
       "   'identity',\n",
       "   'investments',\n",
       "   'liabilities'],\n",
       "  'billed_products': ['income', 'transactions'],\n",
       "  'consent_expiration_time': None,\n",
       "  'error': None,\n",
       "  'institution_id': 'ins_109508',\n",
       "  'item_id': 'geD4w9gPLbcwZ55NoRzecZ7334oW1Zug69wXo',\n",
       "  'webhook': ''},\n",
       " 'request_id': 'VlF6u451dtFpKg3'}"
      ]
     },
     "execution_count": 8,
     "metadata": {},
     "output_type": "execute_result"
    }
   ],
   "source": [
    "# YOUR CODE HERE\n",
    "client.Accounts.get(access_token)"
   ]
  },
  {
   "cell_type": "markdown",
   "metadata": {},
   "source": [
    "---"
   ]
  },
  {
   "cell_type": "markdown",
   "metadata": {},
   "source": [
    "# Account Transactions with Plaid\n",
    "\n",
    "In this section, you will use the Plaid Python SDK to connect to the Developer Sandbox account and grab a list of transactions. You will need to complete the following steps:\n",
    "\n",
    "\n",
    "1. Use the access token to fetch the transactions for the last 90 days\n",
    "2. Print the categories for each transaction type\n",
    "3. Create a new DataFrame using the following fields from the JSON transaction data: `date, name, amount, category`. (For categories with more than one label, just use the first category label in the list)\n",
    "4. Convert the data types to the appropriate types (i.e. datetimeindex for the date and float for the amount)"
   ]
  },
  {
   "cell_type": "markdown",
   "metadata": {},
   "source": [
    "### 1. Fetch the Transactions for the last 90 days"
   ]
  },
  {
   "cell_type": "code",
   "execution_count": 30,
   "metadata": {},
   "outputs": [
    {
     "name": "stdout",
     "output_type": "stream",
     "text": [
      "{\n",
      "    \"account_id\": \"3eZyV1RGDKc8ekk1VozRCnNkz6EG3dFqpLlGm\",\n",
      "    \"account_owner\": null,\n",
      "    \"amount\": 6.33,\n",
      "    \"authorized_date\": null,\n",
      "    \"category\": [\n",
      "        \"Travel\",\n",
      "        \"Taxi\"\n",
      "    ],\n",
      "    \"category_id\": \"22016000\",\n",
      "    \"date\": \"2020-01-29\",\n",
      "    \"iso_currency_code\": \"USD\",\n",
      "    \"location\": {\n",
      "        \"address\": null,\n",
      "        \"city\": null,\n",
      "        \"country\": null,\n",
      "        \"lat\": null,\n",
      "        \"lon\": null,\n",
      "        \"postal_code\": null,\n",
      "        \"region\": null,\n",
      "        \"store_number\": null\n",
      "    },\n",
      "    \"name\": \"Uber\",\n",
      "    \"payment_channel\": \"in store\",\n",
      "    \"payment_meta\": {\n",
      "        \"by_order_of\": null,\n",
      "        \"payee\": null,\n",
      "        \"payer\": null,\n",
      "        \"payment_method\": null,\n",
      "        \"payment_processor\": null,\n",
      "        \"ppd_id\": null,\n",
      "        \"reason\": null,\n",
      "        \"reference_number\": null\n",
      "    },\n",
      "    \"pending\": false,\n",
      "    \"pending_transaction_id\": null,\n",
      "    \"transaction_id\": \"KjL1wko4rnc1lDDqKxb5FlwDwwGArlfVPjp6y\",\n",
      "    \"transaction_type\": \"special\",\n",
      "    \"unofficial_currency_code\": null\n",
      "}\n"
     ]
    }
   ],
   "source": [
    "# YOUR CODE HERE\n",
    "start_date = '{:%Y-%m-%d}'.format(datetime.datetime.now() + datetime.timedelta(-90))\n",
    "end_date = '{:%Y-%m-%d}'.format(datetime.datetime.now())\n",
    "transaction_response = client.Transactions.get(access_token,start_date,end_date)\n",
    "pretty_print_response(transaction_response[\"transactions\"][1])"
   ]
  },
  {
   "cell_type": "markdown",
   "metadata": {},
   "source": [
    "### 2. Print the categories for each transaction"
   ]
  },
  {
   "cell_type": "code",
   "execution_count": 10,
   "metadata": {},
   "outputs": [
    {
     "name": "stdout",
     "output_type": "stream",
     "text": [
      "special: Travel\n",
      "special: Travel\n",
      "place: Food and Drink\n",
      "special: Payment\n",
      "place: Food and Drink\n",
      "place: Shops\n",
      "special: Payment\n",
      "special: Travel\n",
      "special: Transfer\n",
      "special: Transfer\n",
      "place: Recreation\n",
      "special: Travel\n",
      "place: Food and Drink\n",
      "place: Food and Drink\n",
      "place: Food and Drink\n",
      "special: Transfer\n",
      "special: Travel\n"
     ]
    }
   ],
   "source": [
    "# YOUR CODE HERE\n",
    "# There are two ways to print: \n",
    "# method 1. loop through each item.  This is more flexible to take out first item of category list.\n",
    "for transaction in transaction_response[\"transactions\"]:\n",
    "    print(transaction[\"transaction_type\"] + \":\", end =\" \"), print(transaction[\"category\"][0]) "
   ]
  },
  {
   "cell_type": "code",
   "execution_count": 11,
   "metadata": {},
   "outputs": [
    {
     "name": "stdout",
     "output_type": "stream",
     "text": [
      "   transaction_type                                    category\n",
      "0           special    [Travel, Airlines and Aviation Services]\n",
      "1           special                              [Travel, Taxi]\n",
      "2             place               [Food and Drink, Restaurants]\n",
      "3           special                                   [Payment]\n",
      "4             place    [Food and Drink, Restaurants, Fast Food]\n",
      "5             place                     [Shops, Sporting Goods]\n",
      "6           special                      [Payment, Credit Card]\n",
      "7           special                              [Travel, Taxi]\n",
      "8           special                           [Transfer, Debit]\n",
      "9           special                         [Transfer, Deposit]\n",
      "10            place      [Recreation, Gyms and Fitness Centers]\n",
      "11          special    [Travel, Airlines and Aviation Services]\n",
      "12            place    [Food and Drink, Restaurants, Fast Food]\n",
      "13            place  [Food and Drink, Restaurants, Coffee Shop]\n",
      "14            place               [Food and Drink, Restaurants]\n",
      "15          special                          [Transfer, Credit]\n",
      "16          special    [Travel, Airlines and Aviation Services]\n"
     ]
    }
   ],
   "source": [
    "# method 2. tranform to DataFrame. This is faster if data is clean.\n",
    "transactions = pd.DataFrame.from_dict(transaction_response[\"transactions\"])\n",
    "print(transactions[['transaction_type','category']])"
   ]
  },
  {
   "cell_type": "markdown",
   "metadata": {},
   "source": [
    "### 3. Create a new DataFrame using the following fields from the JSON transaction data: date, name, amount, category. \n",
    "\n",
    "(For categories with more than one label, just use the first category label in the list)"
   ]
  },
  {
   "cell_type": "code",
   "execution_count": 12,
   "metadata": {},
   "outputs": [
    {
     "data": {
      "text/html": [
       "<div>\n",
       "<style scoped>\n",
       "    .dataframe tbody tr th:only-of-type {\n",
       "        vertical-align: middle;\n",
       "    }\n",
       "\n",
       "    .dataframe tbody tr th {\n",
       "        vertical-align: top;\n",
       "    }\n",
       "\n",
       "    .dataframe thead th {\n",
       "        text-align: right;\n",
       "    }\n",
       "</style>\n",
       "<table border=\"1\" class=\"dataframe\">\n",
       "  <thead>\n",
       "    <tr style=\"text-align: right;\">\n",
       "      <th></th>\n",
       "      <th>date</th>\n",
       "      <th>name</th>\n",
       "      <th>amount</th>\n",
       "      <th>category</th>\n",
       "    </tr>\n",
       "  </thead>\n",
       "  <tbody>\n",
       "    <tr>\n",
       "      <th>0</th>\n",
       "      <td>2020-01-31</td>\n",
       "      <td>United Airlines</td>\n",
       "      <td>500.00</td>\n",
       "      <td>Travel</td>\n",
       "    </tr>\n",
       "    <tr>\n",
       "      <th>1</th>\n",
       "      <td>2020-01-29</td>\n",
       "      <td>Uber</td>\n",
       "      <td>6.33</td>\n",
       "      <td>Travel</td>\n",
       "    </tr>\n",
       "    <tr>\n",
       "      <th>2</th>\n",
       "      <td>2020-01-26</td>\n",
       "      <td>Tectra Inc</td>\n",
       "      <td>500.00</td>\n",
       "      <td>Food and Drink</td>\n",
       "    </tr>\n",
       "    <tr>\n",
       "      <th>3</th>\n",
       "      <td>2020-01-25</td>\n",
       "      <td>AUTOMATIC PAYMENT - THANK</td>\n",
       "      <td>2078.50</td>\n",
       "      <td>Payment</td>\n",
       "    </tr>\n",
       "    <tr>\n",
       "      <th>4</th>\n",
       "      <td>2020-01-25</td>\n",
       "      <td>KFC</td>\n",
       "      <td>500.00</td>\n",
       "      <td>Food and Drink</td>\n",
       "    </tr>\n",
       "  </tbody>\n",
       "</table>\n",
       "</div>"
      ],
      "text/plain": [
       "         date                       name   amount        category\n",
       "0  2020-01-31            United Airlines   500.00          Travel\n",
       "1  2020-01-29                       Uber     6.33          Travel\n",
       "2  2020-01-26                 Tectra Inc   500.00  Food and Drink\n",
       "3  2020-01-25  AUTOMATIC PAYMENT - THANK  2078.50         Payment\n",
       "4  2020-01-25                        KFC   500.00  Food and Drink"
      ]
     },
     "execution_count": 12,
     "metadata": {},
     "output_type": "execute_result"
    }
   ],
   "source": [
    "# YOUR CODE HERE\n",
    "records = []\n",
    "for transaction in transaction_response[\"transactions\"]:\n",
    "    record = {}\n",
    "    record.update({'date':transaction['date'],\n",
    "                   'name':transaction['name'],\n",
    "                   'amount':transaction['amount'],\n",
    "                   'category':transaction['category'][0]})\n",
    "    records.append(record) # records is a list of dicts, which can be transformed to DataFrame in next step.\n",
    "df = pd.DataFrame.from_dict(records)\n",
    "df.head()"
   ]
  },
  {
   "cell_type": "markdown",
   "metadata": {},
   "source": [
    "### 4. Convert the data types to the appropriate types \n",
    "\n",
    "(i.e. datetimeindex for the date and float for the amount)"
   ]
  },
  {
   "cell_type": "code",
   "execution_count": 29,
   "metadata": {},
   "outputs": [
    {
     "data": {
      "text/html": [
       "<div>\n",
       "<style scoped>\n",
       "    .dataframe tbody tr th:only-of-type {\n",
       "        vertical-align: middle;\n",
       "    }\n",
       "\n",
       "    .dataframe tbody tr th {\n",
       "        vertical-align: top;\n",
       "    }\n",
       "\n",
       "    .dataframe thead th {\n",
       "        text-align: right;\n",
       "    }\n",
       "</style>\n",
       "<table border=\"1\" class=\"dataframe\">\n",
       "  <thead>\n",
       "    <tr style=\"text-align: right;\">\n",
       "      <th></th>\n",
       "      <th>name</th>\n",
       "      <th>amount</th>\n",
       "      <th>category</th>\n",
       "    </tr>\n",
       "    <tr>\n",
       "      <th>date</th>\n",
       "      <th></th>\n",
       "      <th></th>\n",
       "      <th></th>\n",
       "    </tr>\n",
       "  </thead>\n",
       "  <tbody>\n",
       "    <tr>\n",
       "      <th>2020-01-31</th>\n",
       "      <td>United Airlines</td>\n",
       "      <td>500.00</td>\n",
       "      <td>Travel</td>\n",
       "    </tr>\n",
       "    <tr>\n",
       "      <th>2020-01-29</th>\n",
       "      <td>Uber</td>\n",
       "      <td>6.33</td>\n",
       "      <td>Travel</td>\n",
       "    </tr>\n",
       "    <tr>\n",
       "      <th>2020-01-26</th>\n",
       "      <td>Tectra Inc</td>\n",
       "      <td>500.00</td>\n",
       "      <td>Food and Drink</td>\n",
       "    </tr>\n",
       "    <tr>\n",
       "      <th>2020-01-25</th>\n",
       "      <td>AUTOMATIC PAYMENT - THANK</td>\n",
       "      <td>2078.50</td>\n",
       "      <td>Payment</td>\n",
       "    </tr>\n",
       "    <tr>\n",
       "      <th>2020-01-25</th>\n",
       "      <td>KFC</td>\n",
       "      <td>500.00</td>\n",
       "      <td>Food and Drink</td>\n",
       "    </tr>\n",
       "  </tbody>\n",
       "</table>\n",
       "</div>"
      ],
      "text/plain": [
       "                                 name   amount        category\n",
       "date                                                          \n",
       "2020-01-31            United Airlines   500.00          Travel\n",
       "2020-01-29                       Uber     6.33          Travel\n",
       "2020-01-26                 Tectra Inc   500.00  Food and Drink\n",
       "2020-01-25  AUTOMATIC PAYMENT - THANK  2078.50         Payment\n",
       "2020-01-25                        KFC   500.00  Food and Drink"
      ]
     },
     "execution_count": 29,
     "metadata": {},
     "output_type": "execute_result"
    }
   ],
   "source": [
    "# YOUR CODE HERE\n",
    "df.astype({'amount': float})\n",
    "df['date'] = pd.to_datetime(df['date'])\n",
    "df2 = df.set_index('date')\n",
    "df2.head()"
   ]
  },
  {
   "cell_type": "markdown",
   "metadata": {},
   "source": [
    "---"
   ]
  },
  {
   "cell_type": "markdown",
   "metadata": {},
   "source": [
    "# Income Analysis with Plaid\n",
    "\n",
    "In this section, you will use the Plaid Sandbox to complete the following:\n",
    "1. Determine the previous year's gross income and print the results\n",
    "2. Determine the current monthly income and print the results\n",
    "3. Determine the projected yearly income and print the results"
   ]
  },
  {
   "cell_type": "code",
   "execution_count": 23,
   "metadata": {},
   "outputs": [
    {
     "name": "stdout",
     "output_type": "stream",
     "text": [
      "{\n",
      "    \"income_streams\": [\n",
      "        {\n",
      "            \"confidence\": 0.99,\n",
      "            \"days\": 690,\n",
      "            \"monthly_income\": 500,\n",
      "            \"name\": \"UNITED AIRLINES\"\n",
      "        }\n",
      "    ],\n",
      "    \"last_year_income\": 6000,\n",
      "    \"last_year_income_before_tax\": 7285,\n",
      "    \"max_number_of_overlapping_income_streams\": 1,\n",
      "    \"number_of_income_streams\": 1,\n",
      "    \"projected_yearly_income\": 6085,\n",
      "    \"projected_yearly_income_before_tax\": 7389\n",
      "}\n"
     ]
    }
   ],
   "source": [
    "# YOUR CODE HERE\n",
    "income_response = client.Income.get(access_token)\n",
    "pretty_print_response(income_response[\"income\"])"
   ]
  },
  {
   "cell_type": "code",
   "execution_count": 24,
   "metadata": {},
   "outputs": [
    {
     "name": "stdout",
     "output_type": "stream",
     "text": [
      "Previous year's gross income is $7285.\n",
      "Current month income is $500.\n",
      "Projected yearly income is $6085.\n"
     ]
    }
   ],
   "source": [
    "print(f\"Previous year's gross income is ${income_response['income']['last_year_income_before_tax']}.\")\n",
    "print(f\"Current month income is ${income_response['income']['income_streams'][0]['monthly_income']}.\")\n",
    "print(f\"Projected yearly income is ${income_response['income']['projected_yearly_income']}.\")"
   ]
  },
  {
   "cell_type": "markdown",
   "metadata": {},
   "source": [
    "---"
   ]
  },
  {
   "cell_type": "markdown",
   "metadata": {},
   "source": [
    "# Budget Analysis\n",
    "In this section, you will use the transactions DataFrame to analyze the customer's budget\n",
    "\n",
    "1. Calculate the total spending per category and print the results (Hint: groupby or count transactions per category)\n",
    "2. Generate a bar chart with the number of transactions for each category \n",
    "3. Calculate the expenses per month\n",
    "4. Plot the total expenses per month"
   ]
  },
  {
   "cell_type": "markdown",
   "metadata": {},
   "source": [
    "### Calculate the expenses per category"
   ]
  },
  {
   "cell_type": "code",
   "execution_count": 25,
   "metadata": {},
   "outputs": [
    {
     "data": {
      "text/html": [
       "<div>\n",
       "<style scoped>\n",
       "    .dataframe tbody tr th:only-of-type {\n",
       "        vertical-align: middle;\n",
       "    }\n",
       "\n",
       "    .dataframe tbody tr th {\n",
       "        vertical-align: top;\n",
       "    }\n",
       "\n",
       "    .dataframe thead th {\n",
       "        text-align: right;\n",
       "    }\n",
       "</style>\n",
       "<table border=\"1\" class=\"dataframe\">\n",
       "  <thead>\n",
       "    <tr style=\"text-align: right;\">\n",
       "      <th></th>\n",
       "      <th>Total Spending</th>\n",
       "      <th># of Transactions</th>\n",
       "    </tr>\n",
       "    <tr>\n",
       "      <th>category</th>\n",
       "      <th></th>\n",
       "      <th></th>\n",
       "    </tr>\n",
       "  </thead>\n",
       "  <tbody>\n",
       "    <tr>\n",
       "      <th>Food and Drink</th>\n",
       "      <td>1105.73</td>\n",
       "      <td>5</td>\n",
       "    </tr>\n",
       "    <tr>\n",
       "      <th>Payment</th>\n",
       "      <td>2103.50</td>\n",
       "      <td>2</td>\n",
       "    </tr>\n",
       "    <tr>\n",
       "      <th>Recreation</th>\n",
       "      <td>78.50</td>\n",
       "      <td>1</td>\n",
       "    </tr>\n",
       "    <tr>\n",
       "      <th>Shops</th>\n",
       "      <td>500.00</td>\n",
       "      <td>1</td>\n",
       "    </tr>\n",
       "    <tr>\n",
       "      <th>Transfer</th>\n",
       "      <td>6845.78</td>\n",
       "      <td>3</td>\n",
       "    </tr>\n",
       "    <tr>\n",
       "      <th>Travel</th>\n",
       "      <td>511.73</td>\n",
       "      <td>5</td>\n",
       "    </tr>\n",
       "  </tbody>\n",
       "</table>\n",
       "</div>"
      ],
      "text/plain": [
       "                Total Spending  # of Transactions\n",
       "category                                         \n",
       "Food and Drink         1105.73                  5\n",
       "Payment                2103.50                  2\n",
       "Recreation               78.50                  1\n",
       "Shops                   500.00                  1\n",
       "Transfer               6845.78                  3\n",
       "Travel                  511.73                  5"
      ]
     },
     "execution_count": 25,
     "metadata": {},
     "output_type": "execute_result"
    }
   ],
   "source": [
    "# YOUR CODE HERE\n",
    "cat_spending = df2[['category','amount']].groupby(by='category').sum()\n",
    "cat_spending.rename(columns = {'amount':'Total Spending'}, inplace = True)\n",
    "cat_transaction = df2[['category','amount']].groupby(by='category').count()\n",
    "cat_transaction.rename(columns = {'amount':'# of Transactions'}, inplace = True)\n",
    "cat=pd.concat((cat_spending,cat_transaction),axis = 1, join = 'inner')\n",
    "cat"
   ]
  },
  {
   "cell_type": "code",
   "execution_count": 26,
   "metadata": {},
   "outputs": [
    {
     "data": {
      "application/vnd.holoviews_exec.v0+json": "",
      "text/html": [
       "<div id='1113' style='display: table; margin: 0 auto;'>\n",
       "\n",
       "\n",
       "\n",
       "\n",
       "\n",
       "  <div class=\"bk-root\" id=\"208ada76-8f47-4f0f-ad2d-d0d14ba717c7\" data-root-id=\"1113\"></div>\n",
       "</div>\n",
       "<script type=\"application/javascript\">(function(root) {\n",
       "  function embed_document(root) {\n",
       "    \n",
       "  var docs_json = {\"6d3286ba-1361-478a-bc38-4916195015b2\":{\"roots\":{\"references\":[{\"attributes\":{\"align\":null,\"below\":[{\"id\":\"1122\",\"type\":\"CategoricalAxis\"}],\"center\":[{\"id\":\"1125\",\"type\":\"Grid\"},{\"id\":\"1130\",\"type\":\"Grid\"}],\"left\":[{\"id\":\"1126\",\"type\":\"LinearAxis\"}],\"margin\":null,\"min_border_bottom\":10,\"min_border_left\":10,\"min_border_right\":10,\"min_border_top\":10,\"plot_height\":300,\"plot_width\":700,\"renderers\":[{\"id\":\"1149\",\"type\":\"GlyphRenderer\"}],\"sizing_mode\":\"fixed\",\"title\":{\"id\":\"1114\",\"type\":\"Title\"},\"toolbar\":{\"id\":\"1136\",\"type\":\"Toolbar\"},\"x_range\":{\"id\":\"1110\",\"type\":\"FactorRange\"},\"x_scale\":{\"id\":\"1118\",\"type\":\"CategoricalScale\"},\"y_range\":{\"id\":\"1111\",\"type\":\"Range1d\"},\"y_scale\":{\"id\":\"1120\",\"type\":\"LinearScale\"}},\"id\":\"1113\",\"subtype\":\"Figure\",\"type\":\"Plot\"},{\"attributes\":{\"grid_line_color\":null,\"ticker\":{\"id\":\"1123\",\"type\":\"CategoricalTicker\"}},\"id\":\"1125\",\"type\":\"Grid\"},{\"attributes\":{},\"id\":\"1127\",\"type\":\"BasicTicker\"},{\"attributes\":{\"dimension\":1,\"grid_line_color\":null,\"ticker\":{\"id\":\"1127\",\"type\":\"BasicTicker\"}},\"id\":\"1130\",\"type\":\"Grid\"},{\"attributes\":{},\"id\":\"1161\",\"type\":\"UnionRenderers\"},{\"attributes\":{},\"id\":\"1144\",\"type\":\"Selection\"},{\"attributes\":{\"active_drag\":\"auto\",\"active_inspect\":\"auto\",\"active_multi\":null,\"active_scroll\":\"auto\",\"active_tap\":\"auto\",\"tools\":[{\"id\":\"1112\",\"type\":\"HoverTool\"},{\"id\":\"1131\",\"type\":\"SaveTool\"},{\"id\":\"1132\",\"type\":\"PanTool\"},{\"id\":\"1133\",\"type\":\"WheelZoomTool\"},{\"id\":\"1134\",\"type\":\"BoxZoomTool\"},{\"id\":\"1135\",\"type\":\"ResetTool\"}]},\"id\":\"1136\",\"type\":\"Toolbar\"},{\"attributes\":{\"callback\":null,\"end\":5.0,\"reset_end\":5.0,\"reset_start\":0.0,\"tags\":[[[\"# of Transactions\",\"# of Transactions\",null]]]},\"id\":\"1111\",\"type\":\"Range1d\"},{\"attributes\":{},\"id\":\"1131\",\"type\":\"SaveTool\"},{\"attributes\":{},\"id\":\"1132\",\"type\":\"PanTool\"},{\"attributes\":{\"text\":\"# of Transactions by Category\",\"text_color\":{\"value\":\"black\"},\"text_font_size\":{\"value\":\"12pt\"}},\"id\":\"1114\",\"type\":\"Title\"},{\"attributes\":{},\"id\":\"1133\",\"type\":\"WheelZoomTool\"},{\"attributes\":{\"source\":{\"id\":\"1143\",\"type\":\"ColumnDataSource\"}},\"id\":\"1150\",\"type\":\"CDSView\"},{\"attributes\":{\"callback\":null,\"renderers\":[{\"id\":\"1149\",\"type\":\"GlyphRenderer\"}],\"tags\":[\"hv_created\"],\"tooltips\":[[\"category\",\"@{category}\"],[\"# of Transactions\",\"@{number_of_Transactions}\"]]},\"id\":\"1112\",\"type\":\"HoverTool\"},{\"attributes\":{\"overlay\":{\"id\":\"1160\",\"type\":\"BoxAnnotation\"}},\"id\":\"1134\",\"type\":\"BoxZoomTool\"},{\"attributes\":{\"bottom_units\":\"screen\",\"fill_alpha\":{\"value\":0.5},\"fill_color\":{\"value\":\"lightgrey\"},\"left_units\":\"screen\",\"level\":\"overlay\",\"line_alpha\":{\"value\":1.0},\"line_color\":{\"value\":\"black\"},\"line_dash\":[4,4],\"line_width\":{\"value\":2},\"render_mode\":\"css\",\"right_units\":\"screen\",\"top_units\":\"screen\"},\"id\":\"1160\",\"type\":\"BoxAnnotation\"},{\"attributes\":{\"axis_label\":\"\",\"bounds\":\"auto\",\"formatter\":{\"id\":\"1153\",\"type\":\"BasicTickFormatter\"},\"major_label_orientation\":\"horizontal\",\"ticker\":{\"id\":\"1127\",\"type\":\"BasicTicker\"}},\"id\":\"1126\",\"type\":\"LinearAxis\"},{\"attributes\":{\"data_source\":{\"id\":\"1143\",\"type\":\"ColumnDataSource\"},\"glyph\":{\"id\":\"1146\",\"type\":\"VBar\"},\"hover_glyph\":null,\"muted_glyph\":{\"id\":\"1148\",\"type\":\"VBar\"},\"nonselection_glyph\":{\"id\":\"1147\",\"type\":\"VBar\"},\"selection_glyph\":null,\"view\":{\"id\":\"1150\",\"type\":\"CDSView\"}},\"id\":\"1149\",\"type\":\"GlyphRenderer\"},{\"attributes\":{},\"id\":\"1118\",\"type\":\"CategoricalScale\"},{\"attributes\":{},\"id\":\"1135\",\"type\":\"ResetTool\"},{\"attributes\":{},\"id\":\"1151\",\"type\":\"CategoricalTickFormatter\"},{\"attributes\":{},\"id\":\"1153\",\"type\":\"BasicTickFormatter\"},{\"attributes\":{\"fill_alpha\":{\"value\":0.1},\"fill_color\":{\"value\":\"#1f77b3\"},\"line_alpha\":{\"value\":0.1},\"line_color\":{\"value\":\"black\"},\"top\":{\"field\":\"number_of_Transactions\"},\"width\":{\"value\":0.8},\"x\":{\"field\":\"category\"}},\"id\":\"1147\",\"type\":\"VBar\"},{\"attributes\":{\"callback\":null,\"factors\":[\"Food and Drink\",\"Payment\",\"Recreation\",\"Shops\",\"Transfer\",\"Travel\"],\"tags\":[[[\"category\",\"category\",null]]]},\"id\":\"1110\",\"type\":\"FactorRange\"},{\"attributes\":{},\"id\":\"1120\",\"type\":\"LinearScale\"},{\"attributes\":{\"callback\":null,\"data\":{\"category\":[\"Food and Drink\",\"Payment\",\"Recreation\",\"Shops\",\"Transfer\",\"Travel\"],\"number_of_Transactions\":[5,2,1,1,3,5]},\"selected\":{\"id\":\"1144\",\"type\":\"Selection\"},\"selection_policy\":{\"id\":\"1161\",\"type\":\"UnionRenderers\"}},\"id\":\"1143\",\"type\":\"ColumnDataSource\"},{\"attributes\":{\"axis_label\":\"category\",\"bounds\":\"auto\",\"formatter\":{\"id\":\"1151\",\"type\":\"CategoricalTickFormatter\"},\"major_label_orientation\":\"horizontal\",\"ticker\":{\"id\":\"1123\",\"type\":\"CategoricalTicker\"}},\"id\":\"1122\",\"type\":\"CategoricalAxis\"},{\"attributes\":{\"fill_color\":{\"value\":\"#1f77b3\"},\"top\":{\"field\":\"number_of_Transactions\"},\"width\":{\"value\":0.8},\"x\":{\"field\":\"category\"}},\"id\":\"1146\",\"type\":\"VBar\"},{\"attributes\":{},\"id\":\"1123\",\"type\":\"CategoricalTicker\"},{\"attributes\":{\"fill_alpha\":{\"value\":0.2},\"fill_color\":{\"value\":\"#1f77b3\"},\"line_alpha\":{\"value\":0.2},\"line_color\":{\"value\":\"black\"},\"top\":{\"field\":\"number_of_Transactions\"},\"width\":{\"value\":0.8},\"x\":{\"field\":\"category\"}},\"id\":\"1148\",\"type\":\"VBar\"}],\"root_ids\":[\"1113\"]},\"title\":\"Bokeh Application\",\"version\":\"1.4.0\"}};\n",
       "  var render_items = [{\"docid\":\"6d3286ba-1361-478a-bc38-4916195015b2\",\"roots\":{\"1113\":\"208ada76-8f47-4f0f-ad2d-d0d14ba717c7\"}}];\n",
       "  root.Bokeh.embed.embed_items_notebook(docs_json, render_items);\n",
       "\n",
       "  }\n",
       "  if (root.Bokeh !== undefined) {\n",
       "    embed_document(root);\n",
       "  } else {\n",
       "    var attempts = 0;\n",
       "    var timer = setInterval(function(root) {\n",
       "      if (root.Bokeh !== undefined) {\n",
       "        clearInterval(timer);\n",
       "        embed_document(root);\n",
       "      } else {\n",
       "        attempts++;\n",
       "        if (attempts > 100) {\n",
       "          clearInterval(timer);\n",
       "          console.log(\"Bokeh: ERROR: Unable to run BokehJS code because BokehJS library is missing\");\n",
       "        }\n",
       "      }\n",
       "    }, 10, root)\n",
       "  }\n",
       "})(window);</script>"
      ],
      "text/plain": [
       ":Bars   [category]   (# of Transactions)"
      ]
     },
     "execution_count": 26,
     "metadata": {
      "application/vnd.holoviews_exec.v0+json": {
       "id": "1113"
      }
     },
     "output_type": "execute_result"
    }
   ],
   "source": [
    "import hvplot.pandas\n",
    "cat['# of Transactions'].hvplot(kind = 'bar', title = '# of Transactions by Category')"
   ]
  },
  {
   "cell_type": "code",
   "execution_count": 27,
   "metadata": {},
   "outputs": [
    {
     "data": {
      "text/plain": [
       "<matplotlib.axes._subplots.AxesSubplot at 0x122b578d0>"
      ]
     },
     "execution_count": 27,
     "metadata": {},
     "output_type": "execute_result"
    },
    {
     "data": {
      "image/png": "[encoded data removed]",
      "text/plain": [
       "<Figure size 432x288 with 1 Axes>"
      ]
     },
     "metadata": {},
     "output_type": "display_data"
    }
   ],
   "source": [
    "cat['# of Transactions'].plot(kind = 'pie', title = '# of Transactions by Category')"
   ]
  },
  {
   "cell_type": "markdown",
   "metadata": {},
   "source": [
    "### Calculate the expenses per month"
   ]
  },
  {
   "cell_type": "code",
   "execution_count": 28,
   "metadata": {},
   "outputs": [
    {
     "data": {
      "text/html": [
       "<div>\n",
       "<style scoped>\n",
       "    .dataframe tbody tr th:only-of-type {\n",
       "        vertical-align: middle;\n",
       "    }\n",
       "\n",
       "    .dataframe tbody tr th {\n",
       "        vertical-align: top;\n",
       "    }\n",
       "\n",
       "    .dataframe thead th {\n",
       "        text-align: right;\n",
       "    }\n",
       "</style>\n",
       "<table border=\"1\" class=\"dataframe\">\n",
       "  <thead>\n",
       "    <tr style=\"text-align: right;\">\n",
       "      <th></th>\n",
       "      <th>amount</th>\n",
       "    </tr>\n",
       "    <tr>\n",
       "      <th>date</th>\n",
       "      <th></th>\n",
       "    </tr>\n",
       "  </thead>\n",
       "  <tbody>\n",
       "    <tr>\n",
       "      <th>2020-01</th>\n",
       "      <td>11145.24</td>\n",
       "    </tr>\n",
       "  </tbody>\n",
       "</table>\n",
       "</div>"
      ],
      "text/plain": [
       "           amount\n",
       "date             \n",
       "2020-01  11145.24"
      ]
     },
     "execution_count": 28,
     "metadata": {},
     "output_type": "execute_result"
    }
   ],
   "source": [
    "# YOUR CODE HERE\n",
    "per = df2.index.to_period(\"M\")\n",
    "monthly_expense = df2.groupby(per).sum()\n",
    "monthly_expense"
   ]
  },
  {
   "cell_type": "code",
   "execution_count": null,
   "metadata": {},
   "outputs": [],
   "source": [
    "monthly_expense.plot(kind = 'bar')"
   ]
  }
 ],
 "metadata": {
  "kernel_info": {
   "name": "dev"
  },
  "kernelspec": {
   "display_name": "Python 3",
   "language": "python",
   "name": "python3"
  },
  "language_info": {
   "codemirror_mode": {
    "name": "ipython",
    "version": 3
   },
   "file_extension": ".py",
   "mimetype": "text/x-python",
   "name": "python",
   "nbconvert_exporter": "python",
   "pygments_lexer": "ipython3",
   "version": "3.7.4"
  },
  "nteract": {
   "version": "0.12.3"
  }
 },
 "nbformat": 4,
 "nbformat_minor": 4
}
