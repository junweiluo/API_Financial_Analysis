{
 "cells": [
  {
   "cell_type": "code",
   "execution_count": 22,
   "metadata": {},
   "outputs": [],
   "source": [
    "import numpy as np\n",
    "import pandas as pd\n",
    "from datetime import datetime, timedelta\n",
    "import matplotlib.pyplot as plt\n",
    "%matplotlib inline"
   ]
  },
  {
   "cell_type": "code",
   "execution_count": 23,
   "metadata": {},
   "outputs": [],
   "source": [
    "np.random.seed(42)"
   ]
  },
  {
   "cell_type": "markdown",
   "metadata": {},
   "source": [
    "# Portfolio Planner\n",
    "\n",
    "In this activity, you will use the iexfinance api to grab historical data for a 60/40 portfolio using `SPY` to represent the stock portion and `AGG` to represent the bonds."
   ]
  },
  {
   "cell_type": "code",
   "execution_count": 24,
   "metadata": {},
   "outputs": [],
   "source": [
    "from iexfinance.stocks import get_historical_data\n",
    "import iexfinance as iex"
   ]
  },
  {
   "cell_type": "markdown",
   "metadata": {},
   "source": [
    "# Data Collection\n",
    "\n",
    "In this step, you will need to use the IEX api to fetch closing prices for the `SPY` and `AGG` tickers. Save the results as a pandas DataFrame"
   ]
  },
  {
   "cell_type": "code",
   "execution_count": 25,
   "metadata": {},
   "outputs": [],
   "source": [
    "list_of_tickers = [\"SPY\", \"AGG\"]\n",
    "# YOUR CODE HERE\n",
    "# comment the downloading and to_pickle of transaction data unless we need to use it again.  I will take 3 years instead of 1.\n",
    "#df = get_historical_data(list_of_tickers, output_format='pandas', start = '2017-01-01', end = '2019-12-31', close_only = True, volume= False)\n",
    "#df.to_pickle(\"./iex3years\")"
   ]
  },
  {
   "cell_type": "code",
   "execution_count": 26,
   "metadata": {},
   "outputs": [
    {
     "data": {
      "text/html": [
       "<div>\n",
       "<style scoped>\n",
       "    .dataframe tbody tr th:only-of-type {\n",
       "        vertical-align: middle;\n",
       "    }\n",
       "\n",
       "    .dataframe tbody tr th {\n",
       "        vertical-align: top;\n",
       "    }\n",
       "\n",
       "    .dataframe thead th {\n",
       "        text-align: right;\n",
       "    }\n",
       "</style>\n",
       "<table border=\"1\" class=\"dataframe\">\n",
       "  <thead>\n",
       "    <tr style=\"text-align: right;\">\n",
       "      <th></th>\n",
       "      <th>SPY</th>\n",
       "      <th>AGG</th>\n",
       "    </tr>\n",
       "    <tr>\n",
       "      <th>date</th>\n",
       "      <th></th>\n",
       "      <th></th>\n",
       "    </tr>\n",
       "  </thead>\n",
       "  <tbody>\n",
       "    <tr>\n",
       "      <th>2017-01-03</th>\n",
       "      <td>225.24</td>\n",
       "      <td>108.17</td>\n",
       "    </tr>\n",
       "    <tr>\n",
       "      <th>2017-01-04</th>\n",
       "      <td>226.58</td>\n",
       "      <td>108.20</td>\n",
       "    </tr>\n",
       "    <tr>\n",
       "      <th>2017-01-05</th>\n",
       "      <td>226.40</td>\n",
       "      <td>108.65</td>\n",
       "    </tr>\n",
       "    <tr>\n",
       "      <th>2017-01-06</th>\n",
       "      <td>227.21</td>\n",
       "      <td>108.29</td>\n",
       "    </tr>\n",
       "    <tr>\n",
       "      <th>2017-01-09</th>\n",
       "      <td>226.46</td>\n",
       "      <td>108.47</td>\n",
       "    </tr>\n",
       "  </tbody>\n",
       "</table>\n",
       "</div>"
      ],
      "text/plain": [
       "               SPY     AGG\n",
       "date                      \n",
       "2017-01-03  225.24  108.17\n",
       "2017-01-04  226.58  108.20\n",
       "2017-01-05  226.40  108.65\n",
       "2017-01-06  227.21  108.29\n",
       "2017-01-09  226.46  108.47"
      ]
     },
     "execution_count": 26,
     "metadata": {},
     "output_type": "execute_result"
    }
   ],
   "source": [
    "iex_df = pd.read_pickle(\"./iex3years\")\n",
    "iex_df.drop(columns=['volume'], level=1, inplace=True)\n",
    "iex_df.columns = iex_df.columns.droplevel(1)\n",
    "iex_df.sort_index(ascending = True, inplace = True)\n",
    "iex_df.head(5)"
   ]
  },
  {
   "cell_type": "markdown",
   "metadata": {},
   "source": [
    "# Monte Carlo Simulation\n",
    "\n",
    "In this step, you will run Monte Carlo Simulations for your portfolio to model portfolio performance at different retirement ages. \n",
    "\n",
    "Complete the following steps:\n",
    "1. Calculate the daily returns for the SPY and AGG closing prices.\n",
    "2. Calculate volatility for both the SPY and AGG closing prices.\n",
    "3. Find the last day's closing price for both stocks and save those as variables.\n",
    "4. Run a Monte Carlo Simulation of at least 500 iterations and generate at least 30 years of closing prices\n",
    "\n",
    "### HINTS:\n",
    "There are 252 trading days per year, so the number of records to generate for each Monte Carlo run will be 252 days * 30 years"
   ]
  },
  {
   "cell_type": "code",
   "execution_count": 27,
   "metadata": {},
   "outputs": [
    {
     "data": {
      "text/html": [
       "<div>\n",
       "<style scoped>\n",
       "    .dataframe tbody tr th:only-of-type {\n",
       "        vertical-align: middle;\n",
       "    }\n",
       "\n",
       "    .dataframe tbody tr th {\n",
       "        vertical-align: top;\n",
       "    }\n",
       "\n",
       "    .dataframe thead th {\n",
       "        text-align: right;\n",
       "    }\n",
       "</style>\n",
       "<table border=\"1\" class=\"dataframe\">\n",
       "  <thead>\n",
       "    <tr style=\"text-align: right;\">\n",
       "      <th></th>\n",
       "      <th>SPY</th>\n",
       "      <th>AGG</th>\n",
       "    </tr>\n",
       "    <tr>\n",
       "      <th>date</th>\n",
       "      <th></th>\n",
       "      <th></th>\n",
       "    </tr>\n",
       "  </thead>\n",
       "  <tbody>\n",
       "    <tr>\n",
       "      <th>2017-01-04</th>\n",
       "      <td>0.005949</td>\n",
       "      <td>0.000277</td>\n",
       "    </tr>\n",
       "    <tr>\n",
       "      <th>2017-01-05</th>\n",
       "      <td>-0.000794</td>\n",
       "      <td>0.004159</td>\n",
       "    </tr>\n",
       "    <tr>\n",
       "      <th>2017-01-06</th>\n",
       "      <td>0.003578</td>\n",
       "      <td>-0.003313</td>\n",
       "    </tr>\n",
       "    <tr>\n",
       "      <th>2017-01-09</th>\n",
       "      <td>-0.003301</td>\n",
       "      <td>0.001662</td>\n",
       "    </tr>\n",
       "    <tr>\n",
       "      <th>2017-01-10</th>\n",
       "      <td>0.000000</td>\n",
       "      <td>-0.000277</td>\n",
       "    </tr>\n",
       "  </tbody>\n",
       "</table>\n",
       "</div>"
      ],
      "text/plain": [
       "                 SPY       AGG\n",
       "date                          \n",
       "2017-01-04  0.005949  0.000277\n",
       "2017-01-05 -0.000794  0.004159\n",
       "2017-01-06  0.003578 -0.003313\n",
       "2017-01-09 -0.003301  0.001662\n",
       "2017-01-10  0.000000 -0.000277"
      ]
     },
     "execution_count": 27,
     "metadata": {},
     "output_type": "execute_result"
    }
   ],
   "source": [
    "# Calculate the daily roi for the stocks\n",
    "# YOUR CODE HERE\n",
    "daily_return = iex_df.pct_change().dropna()\n",
    "daily_return.head()"
   ]
  },
  {
   "cell_type": "code",
   "execution_count": 28,
   "metadata": {},
   "outputs": [
    {
     "data": {
      "text/plain": [
       "SPY    0.008114\n",
       "AGG    0.001879\n",
       "dtype: float64"
      ]
     },
     "execution_count": 28,
     "metadata": {},
     "output_type": "execute_result"
    }
   ],
   "source": [
    "# Calculate volatility\n",
    "# YOUR CODE HERE\n",
    "daily_std = daily_return.std()\n",
    "daily_std"
   ]
  },
  {
   "cell_type": "code",
   "execution_count": 29,
   "metadata": {},
   "outputs": [
    {
     "data": {
      "text/plain": [
       "SPY    321.86\n",
       "AGG    112.37\n",
       "Name: 2019-12-31 00:00:00, dtype: float64"
      ]
     },
     "execution_count": 29,
     "metadata": {},
     "output_type": "execute_result"
    }
   ],
   "source": [
    "# Save the last day's closing price\n",
    "# YOUR CODE HERE\n",
    "last_day_price = iex_df.iloc[-1] # in later calculation, last closing price is not relevant.\n",
    "last_day_price"
   ]
  },
  {
   "cell_type": "code",
   "execution_count": 30,
   "metadata": {},
   "outputs": [
    {
     "data": {
      "text/html": [
       "<div>\n",
       "<style scoped>\n",
       "    .dataframe tbody tr th:only-of-type {\n",
       "        vertical-align: middle;\n",
       "    }\n",
       "\n",
       "    .dataframe tbody tr th {\n",
       "        vertical-align: top;\n",
       "    }\n",
       "\n",
       "    .dataframe thead th {\n",
       "        text-align: right;\n",
       "    }\n",
       "</style>\n",
       "<table border=\"1\" class=\"dataframe\">\n",
       "  <thead>\n",
       "    <tr style=\"text-align: right;\">\n",
       "      <th></th>\n",
       "      <th>0</th>\n",
       "      <th>1</th>\n",
       "      <th>2</th>\n",
       "      <th>3</th>\n",
       "      <th>4</th>\n",
       "      <th>5</th>\n",
       "      <th>6</th>\n",
       "      <th>7</th>\n",
       "      <th>8</th>\n",
       "      <th>9</th>\n",
       "      <th>...</th>\n",
       "      <th>490</th>\n",
       "      <th>491</th>\n",
       "      <th>492</th>\n",
       "      <th>493</th>\n",
       "      <th>494</th>\n",
       "      <th>495</th>\n",
       "      <th>496</th>\n",
       "      <th>497</th>\n",
       "      <th>498</th>\n",
       "      <th>499</th>\n",
       "    </tr>\n",
       "  </thead>\n",
       "  <tbody>\n",
       "    <tr>\n",
       "      <th>0</th>\n",
       "      <td>1.002346</td>\n",
       "      <td>0.998975</td>\n",
       "      <td>1.004309</td>\n",
       "      <td>1.007797</td>\n",
       "      <td>0.999369</td>\n",
       "      <td>0.997436</td>\n",
       "      <td>1.009312</td>\n",
       "      <td>1.003537</td>\n",
       "      <td>0.997907</td>\n",
       "      <td>1.002836</td>\n",
       "      <td>...</td>\n",
       "      <td>0.999866</td>\n",
       "      <td>1.006470</td>\n",
       "      <td>1.002308</td>\n",
       "      <td>0.997632</td>\n",
       "      <td>1.007740</td>\n",
       "      <td>1.003581</td>\n",
       "      <td>0.993436</td>\n",
       "      <td>1.000356</td>\n",
       "      <td>0.996343</td>\n",
       "      <td>0.992947</td>\n",
       "    </tr>\n",
       "    <tr>\n",
       "      <th>1</th>\n",
       "      <td>1.006804</td>\n",
       "      <td>1.009329</td>\n",
       "      <td>0.998320</td>\n",
       "      <td>1.009633</td>\n",
       "      <td>0.998659</td>\n",
       "      <td>0.995090</td>\n",
       "      <td>1.007111</td>\n",
       "      <td>1.000019</td>\n",
       "      <td>0.997995</td>\n",
       "      <td>0.998552</td>\n",
       "      <td>...</td>\n",
       "      <td>1.002213</td>\n",
       "      <td>0.995829</td>\n",
       "      <td>1.002293</td>\n",
       "      <td>0.995335</td>\n",
       "      <td>1.003117</td>\n",
       "      <td>1.001207</td>\n",
       "      <td>1.002622</td>\n",
       "      <td>1.002826</td>\n",
       "      <td>0.995430</td>\n",
       "      <td>0.995063</td>\n",
       "    </tr>\n",
       "    <tr>\n",
       "      <th>2</th>\n",
       "      <td>1.013737</td>\n",
       "      <td>1.012875</td>\n",
       "      <td>0.998848</td>\n",
       "      <td>1.006545</td>\n",
       "      <td>1.002414</td>\n",
       "      <td>0.995488</td>\n",
       "      <td>1.013087</td>\n",
       "      <td>1.002807</td>\n",
       "      <td>1.003685</td>\n",
       "      <td>0.995210</td>\n",
       "      <td>...</td>\n",
       "      <td>0.999078</td>\n",
       "      <td>1.008105</td>\n",
       "      <td>1.001214</td>\n",
       "      <td>0.997277</td>\n",
       "      <td>1.011917</td>\n",
       "      <td>1.012421</td>\n",
       "      <td>1.012463</td>\n",
       "      <td>1.008694</td>\n",
       "      <td>1.000218</td>\n",
       "      <td>0.999238</td>\n",
       "    </tr>\n",
       "    <tr>\n",
       "      <th>3</th>\n",
       "      <td>1.017345</td>\n",
       "      <td>1.010976</td>\n",
       "      <td>0.994795</td>\n",
       "      <td>1.006688</td>\n",
       "      <td>1.001368</td>\n",
       "      <td>0.993724</td>\n",
       "      <td>1.017296</td>\n",
       "      <td>1.007668</td>\n",
       "      <td>1.004360</td>\n",
       "      <td>1.003150</td>\n",
       "      <td>...</td>\n",
       "      <td>1.004105</td>\n",
       "      <td>1.012397</td>\n",
       "      <td>1.006416</td>\n",
       "      <td>1.001508</td>\n",
       "      <td>1.013742</td>\n",
       "      <td>1.018040</td>\n",
       "      <td>1.013229</td>\n",
       "      <td>1.003679</td>\n",
       "      <td>0.999512</td>\n",
       "      <td>0.995648</td>\n",
       "    </tr>\n",
       "    <tr>\n",
       "      <th>4</th>\n",
       "      <td>1.012834</td>\n",
       "      <td>1.011806</td>\n",
       "      <td>0.990237</td>\n",
       "      <td>1.005604</td>\n",
       "      <td>0.991948</td>\n",
       "      <td>0.995631</td>\n",
       "      <td>1.017377</td>\n",
       "      <td>1.002915</td>\n",
       "      <td>1.009683</td>\n",
       "      <td>1.007695</td>\n",
       "      <td>...</td>\n",
       "      <td>1.005110</td>\n",
       "      <td>1.009787</td>\n",
       "      <td>1.004315</td>\n",
       "      <td>1.008569</td>\n",
       "      <td>1.007341</td>\n",
       "      <td>1.023354</td>\n",
       "      <td>1.012903</td>\n",
       "      <td>1.001944</td>\n",
       "      <td>1.003997</td>\n",
       "      <td>0.998796</td>\n",
       "    </tr>\n",
       "    <tr>\n",
       "      <th>...</th>\n",
       "      <td>...</td>\n",
       "      <td>...</td>\n",
       "      <td>...</td>\n",
       "      <td>...</td>\n",
       "      <td>...</td>\n",
       "      <td>...</td>\n",
       "      <td>...</td>\n",
       "      <td>...</td>\n",
       "      <td>...</td>\n",
       "      <td>...</td>\n",
       "      <td>...</td>\n",
       "      <td>...</td>\n",
       "      <td>...</td>\n",
       "      <td>...</td>\n",
       "      <td>...</td>\n",
       "      <td>...</td>\n",
       "      <td>...</td>\n",
       "      <td>...</td>\n",
       "      <td>...</td>\n",
       "      <td>...</td>\n",
       "      <td>...</td>\n",
       "    </tr>\n",
       "    <tr>\n",
       "      <th>7555</th>\n",
       "      <td>21.665549</td>\n",
       "      <td>21.844304</td>\n",
       "      <td>16.106696</td>\n",
       "      <td>26.513717</td>\n",
       "      <td>21.624351</td>\n",
       "      <td>66.674788</td>\n",
       "      <td>52.782814</td>\n",
       "      <td>20.513466</td>\n",
       "      <td>71.157387</td>\n",
       "      <td>50.464059</td>\n",
       "      <td>...</td>\n",
       "      <td>42.192875</td>\n",
       "      <td>21.279533</td>\n",
       "      <td>18.121646</td>\n",
       "      <td>24.346454</td>\n",
       "      <td>15.424996</td>\n",
       "      <td>29.568862</td>\n",
       "      <td>66.188800</td>\n",
       "      <td>23.733088</td>\n",
       "      <td>44.874659</td>\n",
       "      <td>16.810263</td>\n",
       "    </tr>\n",
       "    <tr>\n",
       "      <th>7556</th>\n",
       "      <td>21.892416</td>\n",
       "      <td>21.744836</td>\n",
       "      <td>16.217779</td>\n",
       "      <td>26.825485</td>\n",
       "      <td>21.830725</td>\n",
       "      <td>66.742318</td>\n",
       "      <td>52.889052</td>\n",
       "      <td>20.243344</td>\n",
       "      <td>71.571177</td>\n",
       "      <td>50.818025</td>\n",
       "      <td>...</td>\n",
       "      <td>42.213685</td>\n",
       "      <td>21.465998</td>\n",
       "      <td>18.295369</td>\n",
       "      <td>24.256393</td>\n",
       "      <td>15.453344</td>\n",
       "      <td>29.919138</td>\n",
       "      <td>66.016080</td>\n",
       "      <td>23.306802</td>\n",
       "      <td>44.865595</td>\n",
       "      <td>17.124884</td>\n",
       "    </tr>\n",
       "    <tr>\n",
       "      <th>7557</th>\n",
       "      <td>22.021524</td>\n",
       "      <td>21.515882</td>\n",
       "      <td>16.195684</td>\n",
       "      <td>27.018555</td>\n",
       "      <td>21.578384</td>\n",
       "      <td>65.302475</td>\n",
       "      <td>53.103082</td>\n",
       "      <td>20.172816</td>\n",
       "      <td>70.635438</td>\n",
       "      <td>51.440028</td>\n",
       "      <td>...</td>\n",
       "      <td>41.812936</td>\n",
       "      <td>21.694900</td>\n",
       "      <td>18.191140</td>\n",
       "      <td>24.277541</td>\n",
       "      <td>15.405619</td>\n",
       "      <td>30.215881</td>\n",
       "      <td>65.845928</td>\n",
       "      <td>23.110927</td>\n",
       "      <td>44.692219</td>\n",
       "      <td>17.240296</td>\n",
       "    </tr>\n",
       "    <tr>\n",
       "      <th>7558</th>\n",
       "      <td>22.096024</td>\n",
       "      <td>21.470085</td>\n",
       "      <td>16.053344</td>\n",
       "      <td>27.033435</td>\n",
       "      <td>21.389723</td>\n",
       "      <td>64.205372</td>\n",
       "      <td>52.862003</td>\n",
       "      <td>20.185707</td>\n",
       "      <td>70.049012</td>\n",
       "      <td>51.227141</td>\n",
       "      <td>...</td>\n",
       "      <td>41.311171</td>\n",
       "      <td>21.741643</td>\n",
       "      <td>18.229156</td>\n",
       "      <td>24.191608</td>\n",
       "      <td>15.561740</td>\n",
       "      <td>30.279657</td>\n",
       "      <td>65.733547</td>\n",
       "      <td>23.266109</td>\n",
       "      <td>45.094354</td>\n",
       "      <td>17.121443</td>\n",
       "    </tr>\n",
       "    <tr>\n",
       "      <th>7559</th>\n",
       "      <td>22.161899</td>\n",
       "      <td>21.257857</td>\n",
       "      <td>16.115087</td>\n",
       "      <td>27.331158</td>\n",
       "      <td>21.377639</td>\n",
       "      <td>64.034136</td>\n",
       "      <td>53.393886</td>\n",
       "      <td>20.256925</td>\n",
       "      <td>70.093973</td>\n",
       "      <td>51.599416</td>\n",
       "      <td>...</td>\n",
       "      <td>41.725636</td>\n",
       "      <td>21.834478</td>\n",
       "      <td>18.045237</td>\n",
       "      <td>24.276516</td>\n",
       "      <td>15.496296</td>\n",
       "      <td>30.301990</td>\n",
       "      <td>66.587268</td>\n",
       "      <td>23.398284</td>\n",
       "      <td>45.079982</td>\n",
       "      <td>17.167661</td>\n",
       "    </tr>\n",
       "  </tbody>\n",
       "</table>\n",
       "<p>7560 rows × 500 columns</p>\n",
       "</div>"
      ],
      "text/plain": [
       "            0          1          2          3          4          5    \\\n",
       "0      1.002346   0.998975   1.004309   1.007797   0.999369   0.997436   \n",
       "1      1.006804   1.009329   0.998320   1.009633   0.998659   0.995090   \n",
       "2      1.013737   1.012875   0.998848   1.006545   1.002414   0.995488   \n",
       "3      1.017345   1.010976   0.994795   1.006688   1.001368   0.993724   \n",
       "4      1.012834   1.011806   0.990237   1.005604   0.991948   0.995631   \n",
       "...         ...        ...        ...        ...        ...        ...   \n",
       "7555  21.665549  21.844304  16.106696  26.513717  21.624351  66.674788   \n",
       "7556  21.892416  21.744836  16.217779  26.825485  21.830725  66.742318   \n",
       "7557  22.021524  21.515882  16.195684  27.018555  21.578384  65.302475   \n",
       "7558  22.096024  21.470085  16.053344  27.033435  21.389723  64.205372   \n",
       "7559  22.161899  21.257857  16.115087  27.331158  21.377639  64.034136   \n",
       "\n",
       "            6          7          8          9    ...        490        491  \\\n",
       "0      1.009312   1.003537   0.997907   1.002836  ...   0.999866   1.006470   \n",
       "1      1.007111   1.000019   0.997995   0.998552  ...   1.002213   0.995829   \n",
       "2      1.013087   1.002807   1.003685   0.995210  ...   0.999078   1.008105   \n",
       "3      1.017296   1.007668   1.004360   1.003150  ...   1.004105   1.012397   \n",
       "4      1.017377   1.002915   1.009683   1.007695  ...   1.005110   1.009787   \n",
       "...         ...        ...        ...        ...  ...        ...        ...   \n",
       "7555  52.782814  20.513466  71.157387  50.464059  ...  42.192875  21.279533   \n",
       "7556  52.889052  20.243344  71.571177  50.818025  ...  42.213685  21.465998   \n",
       "7557  53.103082  20.172816  70.635438  51.440028  ...  41.812936  21.694900   \n",
       "7558  52.862003  20.185707  70.049012  51.227141  ...  41.311171  21.741643   \n",
       "7559  53.393886  20.256925  70.093973  51.599416  ...  41.725636  21.834478   \n",
       "\n",
       "            492        493        494        495        496        497  \\\n",
       "0      1.002308   0.997632   1.007740   1.003581   0.993436   1.000356   \n",
       "1      1.002293   0.995335   1.003117   1.001207   1.002622   1.002826   \n",
       "2      1.001214   0.997277   1.011917   1.012421   1.012463   1.008694   \n",
       "3      1.006416   1.001508   1.013742   1.018040   1.013229   1.003679   \n",
       "4      1.004315   1.008569   1.007341   1.023354   1.012903   1.001944   \n",
       "...         ...        ...        ...        ...        ...        ...   \n",
       "7555  18.121646  24.346454  15.424996  29.568862  66.188800  23.733088   \n",
       "7556  18.295369  24.256393  15.453344  29.919138  66.016080  23.306802   \n",
       "7557  18.191140  24.277541  15.405619  30.215881  65.845928  23.110927   \n",
       "7558  18.229156  24.191608  15.561740  30.279657  65.733547  23.266109   \n",
       "7559  18.045237  24.276516  15.496296  30.301990  66.587268  23.398284   \n",
       "\n",
       "            498        499  \n",
       "0      0.996343   0.992947  \n",
       "1      0.995430   0.995063  \n",
       "2      1.000218   0.999238  \n",
       "3      0.999512   0.995648  \n",
       "4      1.003997   0.998796  \n",
       "...         ...        ...  \n",
       "7555  44.874659  16.810263  \n",
       "7556  44.865595  17.124884  \n",
       "7557  44.692219  17.240296  \n",
       "7558  45.094354  17.121443  \n",
       "7559  45.079982  17.167661  \n",
       "\n",
       "[7560 rows x 500 columns]"
      ]
     },
     "execution_count": 30,
     "metadata": {},
     "output_type": "execute_result"
    }
   ],
   "source": [
    "# If my portfolio is $1, my portfolio should invest $.6 into SPY and $0.4 into AGG no matter what the latest price is:\n",
    "# Therefore, last closing price is not relevant.  The only thing relevant is mean and std of daily return.\n",
    "SPY_sim = np.random.normal(daily_return.mean()[0], daily_std[0],252*30*500).reshape(252*30,500)\n",
    "AGG_sim = np.random.normal(daily_return.mean()[1], daily_std[1],252*30*500).reshape(252*30,500)\n",
    "# I assume there is no rebalancing everyday and so I do cumprod before combining two stocks.  \n",
    "# Otherwise, combine daily return (SPY_sim/AGG_sim) first then cumprod:\n",
    "# Portfolio_return = SPY_sim *0.6 + AGG_sim *0.4\n",
    "# Portfolio_30_year = np.cumprod(Portfolio_return + 1)\n",
    "Portfolio_30_year = np.cumprod(SPY_sim+1, axis = 0)*0.6 + np.cumprod(AGG_sim+1, axis = 0)*0.4\n",
    "Portfolio_30_year_simulation = pd.DataFrame(Portfolio_30_year)\n",
    "Portfolio_30_year_simulation"
   ]
  },
  {
   "cell_type": "code",
   "execution_count": 31,
   "metadata": {},
   "outputs": [],
   "source": [
    "# Setup the Monte Carlo Parameters\n",
    "# ## No need to go through nested loops.\n",
    "# number_simulations = 500\n",
    "# number_records = 252 * 30\n",
    "# monte_carlo = pd.DataFrame()\n",
    "# ##"
   ]
  },
  {
   "cell_type": "code",
   "execution_count": 32,
   "metadata": {},
   "outputs": [],
   "source": [
    "# Run the Monte Carlo Simulation\n",
    "#for x in range(number_simulations):\n",
    "    \n",
    "    # YOUR CODE HERE"
   ]
  },
  {
   "cell_type": "code",
   "execution_count": 33,
   "metadata": {},
   "outputs": [
    {
     "data": {
      "text/plain": [
       "<matplotlib.axes._subplots.AxesSubplot at 0x1302ab810>"
      ]
     },
     "execution_count": 33,
     "metadata": {},
     "output_type": "execute_result"
    },
    {
     "data": {
      "image/png": "[encoded data removed]",
      "text/plain": [
       "<Figure size 720x360 with 1 Axes>"
      ]
     },
     "metadata": {
      "needs_background": "light"
     },
     "output_type": "display_data"
    }
   ],
   "source": [
    "# Visualize the Simulation\n",
    "# YOUR CODE HERE\n",
    "Portfolio_30_year_simulation.plot(legend = False, title = \"Portfolio 60 SPY / 40 AGG: $1\", figsize = (10,5))"
   ]
  },
  {
   "cell_type": "code",
   "execution_count": 34,
   "metadata": {},
   "outputs": [
    {
     "data": {
      "text/plain": [
       "0      22.161899\n",
       "1      21.257857\n",
       "2      16.115087\n",
       "3      27.331158\n",
       "4      21.377639\n",
       "         ...    \n",
       "495    30.301990\n",
       "496    66.587268\n",
       "497    23.398284\n",
       "498    45.079982\n",
       "499    17.167661\n",
       "Name: 7559, Length: 500, dtype: float64"
      ]
     },
     "execution_count": 34,
     "metadata": {},
     "output_type": "execute_result"
    }
   ],
   "source": [
    "# Select the last row for the cumulative returns (cumulative returns at 30 years)\n",
    "# YOUR CODE HERE\n",
    "simulation_ending_price_30 = Portfolio_30_year_simulation.iloc[-1]\n",
    "simulation_ending_price_30"
   ]
  },
  {
   "cell_type": "code",
   "execution_count": 35,
   "metadata": {},
   "outputs": [
    {
     "data": {
      "text/plain": [
       "0       8.196601\n",
       "1       6.153461\n",
       "2       3.131143\n",
       "3       4.779581\n",
       "4       8.943769\n",
       "         ...    \n",
       "495    12.129116\n",
       "496     8.119497\n",
       "497     7.526558\n",
       "498    12.243978\n",
       "499     3.805870\n",
       "Name: 5039, Length: 500, dtype: float64"
      ]
     },
     "execution_count": 35,
     "metadata": {},
     "output_type": "execute_result"
    }
   ],
   "source": [
    "# Select the last row for the cumulative returns (cumulative returns at 20 years)\n",
    "# YOUR CODE HERE\n",
    "simulation_ending_price_20 = Portfolio_30_year_simulation.iloc[252*20-1]\n",
    "simulation_ending_price_20"
   ]
  },
  {
   "cell_type": "code",
   "execution_count": 36,
   "metadata": {},
   "outputs": [
    {
     "name": "stdout",
     "output_type": "stream",
     "text": [
      "The 90% confidence interval of 30-year ending price for $1 investment in portfolio is between $6 and $73.\n"
     ]
    }
   ],
   "source": [
    "# Display the 90% confidence interval for the ending returns\n",
    "# YOUR CODE HERE\n",
    "quantile_result = simulation_ending_price_30.quantile(q=[0.05, 0.95])\n",
    "print(f\"The 90% confidence interval of 30-year ending price for $1 investment in portfolio \\\n",
    "is between ${int(quantile_result[0.05])} and ${int(quantile_result[.95])}.\")"
   ]
  },
  {
   "cell_type": "code",
   "execution_count": 41,
   "metadata": {},
   "outputs": [
    {
     "data": {
      "text/plain": [
       "<matplotlib.lines.Line2D at 0x13f7860d0>"
      ]
     },
     "execution_count": 41,
     "metadata": {},
     "output_type": "execute_result"
    },
    {
     "data": {
      "image/png": "[encoded data removed]",
      "text/plain": [
       "<Figure size 432x288 with 1 Axes>"
      ]
     },
     "metadata": {
      "needs_background": "light"
     },
     "output_type": "display_data"
    }
   ],
   "source": [
    "# Visualize the distribution of the ending returns\n",
    "# YOUR CODE HERE\n",
    "import matplotlib.pyplot as plt\n",
    "plt.figure() # this is top-level container for all plot elements, make sure to close it when not suing any more.\n",
    "simulation_ending_price_30.plot(kind = 'hist', title=\"90% confidence interval for tails\")\n",
    "plt.axvline(quantile_result.iloc[0], color='r')\n",
    "plt.axvline(quantile_result.iloc[1], color='r')"
   ]
  },
  {
   "cell_type": "markdown",
   "metadata": {},
   "source": [
    "---"
   ]
  },
  {
   "cell_type": "markdown",
   "metadata": {},
   "source": [
    "# Retirement Analysis\n",
    "\n",
    "In this section, you will use the monte carlo model to answer the following retirement planning questions:\n",
    "\n",
    "1. What are the expected cumulative returns at 30 years for the 10th, 50th, and 90th percentiles?\n",
    "2. Given an initial investment of `$20,000`, what is the expected portfolio return in dollars at the 10th, 50th, and 90th percentiles?\n",
    "3. Given the current projected annual income from the Plaid analysis, will a 4% withdraw rate from the retirement portfolio meet or exceed that value at the 10th percentile?\n",
    "4. How would a 50% increase in the initial investment amount affect the 4% retirement withdrawal?"
   ]
  },
  {
   "cell_type": "markdown",
   "metadata": {},
   "source": [
    "### What are the expected cumulative returns at 30 years for the 10th, 50th, and 90th percentiles?"
   ]
  },
  {
   "cell_type": "code",
   "execution_count": 38,
   "metadata": {},
   "outputs": [],
   "source": [
    "# YOUR CODE HERE\n",
    "quantile_10_50_90=simulation_ending_price_30.quantile(q = [0.10,0.50,0.90])"
   ]
  },
  {
   "cell_type": "markdown",
   "metadata": {},
   "source": [
    "### Given an initial investment of `$20,000`, what is the expected portfolio return in dollars at the 10th, 50th, and 90th percentiles?"
   ]
  },
  {
   "cell_type": "code",
   "execution_count": 39,
   "metadata": {},
   "outputs": [
    {
     "data": {
      "text/plain": [
       "0.1     174263\n",
       "0.5     443875\n",
       "0.9    1100877\n",
       "Name: 7559, dtype: int64"
      ]
     },
     "execution_count": 39,
     "metadata": {},
     "output_type": "execute_result"
    }
   ],
   "source": [
    "# YOUR CODE HERE\n",
    "return_10_50_90 = quantile_10_50_90*20000\n",
    "return_10_50_90.astype(int)"
   ]
  },
  {
   "cell_type": "markdown",
   "metadata": {},
   "source": [
    "### Given the current projected annual income from the Plaid analysis, will a 4% withdraw rate from the retirement portfolio meet or exceed that value at the 10th percentile?\n",
    "\n",
    "Note: This is effectively saying that 90% of the expected returns will be greater than the return at the 10th percentile, so this can help measure the uncertainty about having enough funds at retirement"
   ]
  },
  {
   "cell_type": "code",
   "execution_count": 40,
   "metadata": {},
   "outputs": [],
   "source": [
    "# YOUR CODE HERE"
   ]
  },
  {
   "cell_type": "markdown",
   "metadata": {},
   "source": [
    "### How would a 50% increase in the initial investment amount affect the 4% retirement withdrawal?"
   ]
  },
  {
   "cell_type": "code",
   "execution_count": null,
   "metadata": {},
   "outputs": [],
   "source": [
    "# YOUR CODE HERE"
   ]
  },
  {
   "cell_type": "markdown",
   "metadata": {},
   "source": [
    "### Optional Challenge\n",
    "\n",
    "In this section, you will calculate and plot the cumulative returns for the median and 90% confidence intervals. This plot shows the expected cumulative returns for any given day between the first day and the last day of investment. "
   ]
  },
  {
   "cell_type": "code",
   "execution_count": null,
   "metadata": {},
   "outputs": [],
   "source": [
    "# YOUR CODE HERE"
   ]
  }
 ],
 "metadata": {
  "kernel_info": {
   "name": "dev"
  },
  "kernelspec": {
   "display_name": "Python 3",
   "language": "python",
   "name": "python3"
  },
  "language_info": {
   "codemirror_mode": {
    "name": "ipython",
    "version": 3
   },
   "file_extension": ".py",
   "mimetype": "text/x-python",
   "name": "python",
   "nbconvert_exporter": "python",
   "pygments_lexer": "ipython3",
   "version": "3.7.4"
  },
  "nteract": {
   "version": "0.12.3"
  }
 },
 "nbformat": 4,
 "nbformat_minor": 4
}
