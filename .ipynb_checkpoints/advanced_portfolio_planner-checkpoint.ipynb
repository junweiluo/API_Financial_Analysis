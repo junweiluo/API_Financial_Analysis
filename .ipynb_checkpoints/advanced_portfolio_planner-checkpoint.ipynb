{
 "cells": [
  {
   "cell_type": "code",
   "execution_count": 1,
   "metadata": {
    "deletable": true,
    "editable": true
   },
   "outputs": [],
   "source": [
    "import numpy as np\n",
    "import pandas as pd\n",
    "from datetime import datetime, timedelta\n",
    "import matplotlib.pyplot as plt\n",
    "%matplotlib inline"
   ]
  },
  {
   "cell_type": "code",
   "execution_count": 2,
   "metadata": {
    "deletable": true,
    "editable": true
   },
   "outputs": [],
   "source": [
    "np.random.seed(42)"
   ]
  },
  {
   "cell_type": "markdown",
   "metadata": {
    "deletable": true,
    "editable": true
   },
   "source": [
    "# Portfolio Planner\n",
    "\n",
    "In this activity, you will use the iexfinance api to grab historical data for a 60/40 portfolio using `SPY` to represent the stock portion and `AGG` to represent the bonds."
   ]
  },
  {
   "cell_type": "code",
   "execution_count": 3,
   "metadata": {
    "deletable": true,
    "editable": true
   },
   "outputs": [],
   "source": [
    "from iexfinance.stocks import get_historical_data\n",
    "import iexfinance as iex"
   ]
  },
  {
   "cell_type": "markdown",
   "metadata": {
    "deletable": true,
    "editable": true
   },
   "source": [
    "# Data Collection\n",
    "\n",
    "In this step, you will need to use the IEX api to fetch closing prices for the `SPY` and `AGG` tickers. Save the results as a pandas DataFrame"
   ]
  },
  {
   "cell_type": "code",
   "execution_count": 4,
   "metadata": {
    "deletable": true,
    "editable": true
   },
   "outputs": [],
   "source": [
    "list_of_tickers = [\"SPY\", \"AGG\"]\n",
    "# comment the downloading and to_pickle of transaction data unless we need to use it again.  I will take 3 years instead of 1.\n",
    "#df = get_historical_data(list_of_tickers, output_format='pandas', start = '2017-01-01', end = '2019-12-31', close_only = True, volume= False)\n",
    "#df.to_pickle(\"./iex3years\")"
   ]
  },
  {
   "cell_type": "code",
   "execution_count": 5,
   "metadata": {
    "collapsed": false,
    "deletable": true,
    "editable": true,
    "jupyter": {
     "outputs_hidden": false
    }
   },
   "outputs": [
    {
     "data": {
      "text/html": [
       "<div>\n",
       "<style scoped>\n",
       "    .dataframe tbody tr th:only-of-type {\n",
       "        vertical-align: middle;\n",
       "    }\n",
       "\n",
       "    .dataframe tbody tr th {\n",
       "        vertical-align: top;\n",
       "    }\n",
       "\n",
       "    .dataframe thead th {\n",
       "        text-align: right;\n",
       "    }\n",
       "</style>\n",
       "<table border=\"1\" class=\"dataframe\">\n",
       "  <thead>\n",
       "    <tr style=\"text-align: right;\">\n",
       "      <th></th>\n",
       "      <th>SPY</th>\n",
       "      <th>AGG</th>\n",
       "    </tr>\n",
       "    <tr>\n",
       "      <th>date</th>\n",
       "      <th></th>\n",
       "      <th></th>\n",
       "    </tr>\n",
       "  </thead>\n",
       "  <tbody>\n",
       "    <tr>\n",
       "      <th>2017-01-03</th>\n",
       "      <td>225.24</td>\n",
       "      <td>108.17</td>\n",
       "    </tr>\n",
       "    <tr>\n",
       "      <th>2017-01-04</th>\n",
       "      <td>226.58</td>\n",
       "      <td>108.20</td>\n",
       "    </tr>\n",
       "    <tr>\n",
       "      <th>2017-01-05</th>\n",
       "      <td>226.40</td>\n",
       "      <td>108.65</td>\n",
       "    </tr>\n",
       "    <tr>\n",
       "      <th>2017-01-06</th>\n",
       "      <td>227.21</td>\n",
       "      <td>108.29</td>\n",
       "    </tr>\n",
       "    <tr>\n",
       "      <th>2017-01-09</th>\n",
       "      <td>226.46</td>\n",
       "      <td>108.47</td>\n",
       "    </tr>\n",
       "  </tbody>\n",
       "</table>\n",
       "</div>"
      ],
      "text/plain": [
       "               SPY     AGG\n",
       "date                      \n",
       "2017-01-03  225.24  108.17\n",
       "2017-01-04  226.58  108.20\n",
       "2017-01-05  226.40  108.65\n",
       "2017-01-06  227.21  108.29\n",
       "2017-01-09  226.46  108.47"
      ]
     },
     "execution_count": 5,
     "metadata": {},
     "output_type": "execute_result"
    }
   ],
   "source": [
    "iex_df = pd.read_pickle(\"./iex3years\")\n",
    "iex_df.drop(columns=['volume'], level=1, inplace=True)\n",
    "iex_df.columns = iex_df.columns.droplevel(1)\n",
    "iex_df.sort_index(ascending = True, inplace = True)\n",
    "iex_df.head(5)"
   ]
  },
  {
   "cell_type": "markdown",
   "metadata": {
    "deletable": true,
    "editable": true
   },
   "source": [
    "# Monte Carlo Simulation\n",
    "\n",
    "In this step, you will run Monte Carlo Simulations for your portfolio to model portfolio performance at different retirement ages. \n",
    "\n",
    "Complete the following steps:\n",
    "1. Calculate the daily returns for the SPY and AGG closing prices.\n",
    "2. Calculate volatility for both the SPY and AGG closing prices.\n",
    "3. Find the last day's closing price for both stocks and save those as variables.\n",
    "4. Run a Monte Carlo Simulation of at least 500 iterations and generate at least 30 years of closing prices\n",
    "\n",
    "### HINTS:\n",
    "There are 252 trading days per year, so the number of records to generate for each Monte Carlo run will be 252 days * 30 years"
   ]
  },
  {
   "cell_type": "code",
   "execution_count": 6,
   "metadata": {
    "collapsed": false,
    "deletable": true,
    "editable": true,
    "jupyter": {
     "outputs_hidden": false
    }
   },
   "outputs": [
    {
     "data": {
      "text/html": [
       "<div>\n",
       "<style scoped>\n",
       "    .dataframe tbody tr th:only-of-type {\n",
       "        vertical-align: middle;\n",
       "    }\n",
       "\n",
       "    .dataframe tbody tr th {\n",
       "        vertical-align: top;\n",
       "    }\n",
       "\n",
       "    .dataframe thead th {\n",
       "        text-align: right;\n",
       "    }\n",
       "</style>\n",
       "<table border=\"1\" class=\"dataframe\">\n",
       "  <thead>\n",
       "    <tr style=\"text-align: right;\">\n",
       "      <th></th>\n",
       "      <th>SPY</th>\n",
       "      <th>AGG</th>\n",
       "    </tr>\n",
       "    <tr>\n",
       "      <th>date</th>\n",
       "      <th></th>\n",
       "      <th></th>\n",
       "    </tr>\n",
       "  </thead>\n",
       "  <tbody>\n",
       "    <tr>\n",
       "      <th>2017-01-04</th>\n",
       "      <td>0.005949</td>\n",
       "      <td>0.000277</td>\n",
       "    </tr>\n",
       "    <tr>\n",
       "      <th>2017-01-05</th>\n",
       "      <td>-0.000794</td>\n",
       "      <td>0.004159</td>\n",
       "    </tr>\n",
       "    <tr>\n",
       "      <th>2017-01-06</th>\n",
       "      <td>0.003578</td>\n",
       "      <td>-0.003313</td>\n",
       "    </tr>\n",
       "    <tr>\n",
       "      <th>2017-01-09</th>\n",
       "      <td>-0.003301</td>\n",
       "      <td>0.001662</td>\n",
       "    </tr>\n",
       "    <tr>\n",
       "      <th>2017-01-10</th>\n",
       "      <td>0.000000</td>\n",
       "      <td>-0.000277</td>\n",
       "    </tr>\n",
       "  </tbody>\n",
       "</table>\n",
       "</div>"
      ],
      "text/plain": [
       "                 SPY       AGG\n",
       "date                          \n",
       "2017-01-04  0.005949  0.000277\n",
       "2017-01-05 -0.000794  0.004159\n",
       "2017-01-06  0.003578 -0.003313\n",
       "2017-01-09 -0.003301  0.001662\n",
       "2017-01-10  0.000000 -0.000277"
      ]
     },
     "execution_count": 6,
     "metadata": {},
     "output_type": "execute_result"
    }
   ],
   "source": [
    "# Calculate the daily roi for the stocks\n",
    "daily_return = iex_df.pct_change().dropna()\n",
    "daily_return.head()"
   ]
  },
  {
   "cell_type": "code",
   "execution_count": 7,
   "metadata": {},
   "outputs": [
    {
     "data": {
      "text/html": [
       "<div>\n",
       "<style scoped>\n",
       "    .dataframe tbody tr th:only-of-type {\n",
       "        vertical-align: middle;\n",
       "    }\n",
       "\n",
       "    .dataframe tbody tr th {\n",
       "        vertical-align: top;\n",
       "    }\n",
       "\n",
       "    .dataframe thead th {\n",
       "        text-align: right;\n",
       "    }\n",
       "</style>\n",
       "<table border=\"1\" class=\"dataframe\">\n",
       "  <thead>\n",
       "    <tr style=\"text-align: right;\">\n",
       "      <th></th>\n",
       "      <th>SPY</th>\n",
       "      <th>AGG</th>\n",
       "      <th>XYZ</th>\n",
       "    </tr>\n",
       "  </thead>\n",
       "  <tbody>\n",
       "    <tr>\n",
       "      <th>avg</th>\n",
       "      <td>0.000507</td>\n",
       "      <td>0.000052</td>\n",
       "      <td>0.000002</td>\n",
       "    </tr>\n",
       "    <tr>\n",
       "      <th>std</th>\n",
       "      <td>0.008114</td>\n",
       "      <td>0.001879</td>\n",
       "      <td>0.030000</td>\n",
       "    </tr>\n",
       "    <tr>\n",
       "      <th>weight</th>\n",
       "      <td>0.700000</td>\n",
       "      <td>0.100000</td>\n",
       "      <td>0.200000</td>\n",
       "    </tr>\n",
       "  </tbody>\n",
       "</table>\n",
       "</div>"
      ],
      "text/plain": [
       "             SPY       AGG       XYZ\n",
       "avg     0.000507  0.000052  0.000002\n",
       "std     0.008114  0.001879  0.030000\n",
       "weight  0.700000  0.100000  0.200000"
      ]
     },
     "execution_count": 7,
     "metadata": {},
     "output_type": "execute_result"
    }
   ],
   "source": [
    "#get a portfolio\n",
    "cal_avg = pd.DataFrame(daily_return.mean()).rename(columns = ({0:'avg'}))\n",
    "cal_std = pd.DataFrame(daily_return.std()).rename(columns = ({0:'std'}))\n",
    "portfolio1 = pd.concat((cal_avg, cal_std), axis = 1).T\n",
    "portfolio1.loc['weight','SPY'] = 0.7\n",
    "portfolio1.loc['weight','AGG'] = 0.1\n",
    "portfolio1.loc[:,'XYZ'] =[0.000002,0.03,0.2]\n",
    "portfolio1"
   ]
  },
  {
   "cell_type": "code",
   "execution_count": 8,
   "metadata": {},
   "outputs": [
    {
     "data": {
      "text/html": [
       "<div>\n",
       "<style scoped>\n",
       "    .dataframe tbody tr th:only-of-type {\n",
       "        vertical-align: middle;\n",
       "    }\n",
       "\n",
       "    .dataframe tbody tr th {\n",
       "        vertical-align: top;\n",
       "    }\n",
       "\n",
       "    .dataframe thead th {\n",
       "        text-align: right;\n",
       "    }\n",
       "</style>\n",
       "<table border=\"1\" class=\"dataframe\">\n",
       "  <thead>\n",
       "    <tr style=\"text-align: right;\">\n",
       "      <th></th>\n",
       "      <th>0</th>\n",
       "      <th>1</th>\n",
       "      <th>2</th>\n",
       "    </tr>\n",
       "  </thead>\n",
       "  <tbody>\n",
       "    <tr>\n",
       "      <th>0</th>\n",
       "      <td>0.00020</td>\n",
       "      <td>0.000009</td>\n",
       "      <td>0.0002</td>\n",
       "    </tr>\n",
       "    <tr>\n",
       "      <th>1</th>\n",
       "      <td>0.00003</td>\n",
       "      <td>0.008300</td>\n",
       "      <td>0.0005</td>\n",
       "    </tr>\n",
       "    <tr>\n",
       "      <th>2</th>\n",
       "      <td>0.10000</td>\n",
       "      <td>0.200000</td>\n",
       "      <td>0.7000</td>\n",
       "    </tr>\n",
       "  </tbody>\n",
       "</table>\n",
       "</div>"
      ],
      "text/plain": [
       "         0         1       2\n",
       "0  0.00020  0.000009  0.0002\n",
       "1  0.00003  0.008300  0.0005\n",
       "2  0.10000  0.200000  0.7000"
      ]
     },
     "execution_count": 8,
     "metadata": {},
     "output_type": "execute_result"
    }
   ],
   "source": [
    "portfolio2 = pd.DataFrame([[0.0002,0.000009,0.0002],\n",
    "                           [0.00003,0.0083,0.0005],\n",
    "                           [0.1,0.2,0.7]])\n",
    "portfolio2"
   ]
  },
  {
   "cell_type": "code",
   "execution_count": 9,
   "metadata": {},
   "outputs": [],
   "source": [
    "portfolio = portfolio1\n",
    "portfolio_dimension = portfolio.shape"
   ]
  },
  {
   "cell_type": "code",
   "execution_count": 10,
   "metadata": {
    "deletable": true,
    "editable": true
   },
   "outputs": [],
   "source": [
    "# Next two lines are generating random daily returns for each stock for 30 years before calculating portfolio separately.\n",
    "for stock in range(portfolio_dimension[1]):\n",
    "    globals()['stock_%s' % stock]= np.random.normal(portfolio.iloc[0,stock], \n",
    "                                                    portfolio.iloc[1,stock],\n",
    "                                                    252*30*500).reshape(252*30,500)      "
   ]
  },
  {
   "cell_type": "code",
   "execution_count": 12,
   "metadata": {
    "collapsed": false,
    "deletable": true,
    "editable": true,
    "jupyter": {
     "outputs_hidden": false
    }
   },
   "outputs": [],
   "source": [
    "#placeholder for user's input\n",
    "withdraw_type = 'fixed rate'  #fixed amount or fixed rate\n",
    "input_withdraw_amount = 0.04\n",
    "input_withdraw_rate = 0.04\n",
    "years_to_retirement = 10"
   ]
  },
  {
   "cell_type": "code",
   "execution_count": 13,
   "metadata": {
    "collapsed": false,
    "deletable": true,
    "editable": true,
    "jupyter": {
     "outputs_hidden": false
    }
   },
   "outputs": [
    {
     "name": "stdout",
     "output_type": "stream",
     "text": [
      "CPU times: user 3 µs, sys: 0 ns, total: 3 µs\n",
      "Wall time: 5.96 µs\n"
     ]
    },
    {
     "data": {
      "text/html": [
       "<div>\n",
       "<style scoped>\n",
       "    .dataframe tbody tr th:only-of-type {\n",
       "        vertical-align: middle;\n",
       "    }\n",
       "\n",
       "    .dataframe tbody tr th {\n",
       "        vertical-align: top;\n",
       "    }\n",
       "\n",
       "    .dataframe thead th {\n",
       "        text-align: right;\n",
       "    }\n",
       "</style>\n",
       "<table border=\"1\" class=\"dataframe\">\n",
       "  <thead>\n",
       "    <tr style=\"text-align: right;\">\n",
       "      <th></th>\n",
       "      <th>0</th>\n",
       "      <th>1</th>\n",
       "      <th>2</th>\n",
       "      <th>3</th>\n",
       "      <th>4</th>\n",
       "      <th>5</th>\n",
       "      <th>6</th>\n",
       "      <th>7</th>\n",
       "      <th>8</th>\n",
       "      <th>9</th>\n",
       "      <th>...</th>\n",
       "      <th>490</th>\n",
       "      <th>491</th>\n",
       "      <th>492</th>\n",
       "      <th>493</th>\n",
       "      <th>494</th>\n",
       "      <th>495</th>\n",
       "      <th>496</th>\n",
       "      <th>497</th>\n",
       "      <th>498</th>\n",
       "      <th>499</th>\n",
       "    </tr>\n",
       "  </thead>\n",
       "  <tbody>\n",
       "    <tr>\n",
       "      <th>0</th>\n",
       "      <td>1.005150</td>\n",
       "      <td>0.994094</td>\n",
       "      <td>0.999396</td>\n",
       "      <td>1.011805</td>\n",
       "      <td>0.997292</td>\n",
       "      <td>0.991508</td>\n",
       "      <td>1.010704</td>\n",
       "      <td>1.013144</td>\n",
       "      <td>1.003533</td>\n",
       "      <td>1.015208</td>\n",
       "      <td>...</td>\n",
       "      <td>0.996903</td>\n",
       "      <td>1.012747</td>\n",
       "      <td>0.999810</td>\n",
       "      <td>0.995661</td>\n",
       "      <td>1.016325</td>\n",
       "      <td>1.010241</td>\n",
       "      <td>0.985631</td>\n",
       "      <td>1.000701</td>\n",
       "      <td>0.995741</td>\n",
       "      <td>0.990294</td>\n",
       "    </tr>\n",
       "    <tr>\n",
       "      <th>1</th>\n",
       "      <td>1.008845</td>\n",
       "      <td>0.997686</td>\n",
       "      <td>1.004092</td>\n",
       "      <td>1.019320</td>\n",
       "      <td>0.995431</td>\n",
       "      <td>0.981939</td>\n",
       "      <td>1.004540</td>\n",
       "      <td>0.999767</td>\n",
       "      <td>1.013496</td>\n",
       "      <td>1.008267</td>\n",
       "      <td>...</td>\n",
       "      <td>1.008226</td>\n",
       "      <td>0.991695</td>\n",
       "      <td>0.997429</td>\n",
       "      <td>0.997516</td>\n",
       "      <td>1.019544</td>\n",
       "      <td>1.006906</td>\n",
       "      <td>0.987766</td>\n",
       "      <td>1.000579</td>\n",
       "      <td>0.995383</td>\n",
       "      <td>0.980526</td>\n",
       "    </tr>\n",
       "    <tr>\n",
       "      <th>2</th>\n",
       "      <td>1.000708</td>\n",
       "      <td>1.004839</td>\n",
       "      <td>1.006150</td>\n",
       "      <td>1.005955</td>\n",
       "      <td>0.998262</td>\n",
       "      <td>0.983312</td>\n",
       "      <td>1.004812</td>\n",
       "      <td>0.993495</td>\n",
       "      <td>1.008022</td>\n",
       "      <td>1.003646</td>\n",
       "      <td>...</td>\n",
       "      <td>1.006166</td>\n",
       "      <td>1.011525</td>\n",
       "      <td>0.980199</td>\n",
       "      <td>0.990911</td>\n",
       "      <td>1.025807</td>\n",
       "      <td>1.009907</td>\n",
       "      <td>0.998784</td>\n",
       "      <td>0.996535</td>\n",
       "      <td>0.998364</td>\n",
       "      <td>0.985739</td>\n",
       "    </tr>\n",
       "    <tr>\n",
       "      <th>3</th>\n",
       "      <td>1.003036</td>\n",
       "      <td>1.009698</td>\n",
       "      <td>1.016987</td>\n",
       "      <td>1.006134</td>\n",
       "      <td>0.995995</td>\n",
       "      <td>0.977443</td>\n",
       "      <td>1.009215</td>\n",
       "      <td>1.001427</td>\n",
       "      <td>1.005973</td>\n",
       "      <td>1.023743</td>\n",
       "      <td>...</td>\n",
       "      <td>0.999298</td>\n",
       "      <td>1.014601</td>\n",
       "      <td>0.986929</td>\n",
       "      <td>0.986809</td>\n",
       "      <td>1.035282</td>\n",
       "      <td>1.014080</td>\n",
       "      <td>1.005441</td>\n",
       "      <td>0.986185</td>\n",
       "      <td>1.005309</td>\n",
       "      <td>0.978825</td>\n",
       "    </tr>\n",
       "    <tr>\n",
       "      <th>4</th>\n",
       "      <td>0.995508</td>\n",
       "      <td>1.009819</td>\n",
       "      <td>1.020680</td>\n",
       "      <td>0.995073</td>\n",
       "      <td>0.979475</td>\n",
       "      <td>0.971288</td>\n",
       "      <td>1.011147</td>\n",
       "      <td>0.990315</td>\n",
       "      <td>1.005572</td>\n",
       "      <td>1.022094</td>\n",
       "      <td>...</td>\n",
       "      <td>0.991701</td>\n",
       "      <td>1.015250</td>\n",
       "      <td>0.983077</td>\n",
       "      <td>0.983305</td>\n",
       "      <td>1.024241</td>\n",
       "      <td>1.023786</td>\n",
       "      <td>1.005708</td>\n",
       "      <td>0.995406</td>\n",
       "      <td>1.012154</td>\n",
       "      <td>0.984337</td>\n",
       "    </tr>\n",
       "    <tr>\n",
       "      <th>...</th>\n",
       "      <td>...</td>\n",
       "      <td>...</td>\n",
       "      <td>...</td>\n",
       "      <td>...</td>\n",
       "      <td>...</td>\n",
       "      <td>...</td>\n",
       "      <td>...</td>\n",
       "      <td>...</td>\n",
       "      <td>...</td>\n",
       "      <td>...</td>\n",
       "      <td>...</td>\n",
       "      <td>...</td>\n",
       "      <td>...</td>\n",
       "      <td>...</td>\n",
       "      <td>...</td>\n",
       "      <td>...</td>\n",
       "      <td>...</td>\n",
       "      <td>...</td>\n",
       "      <td>...</td>\n",
       "      <td>...</td>\n",
       "      <td>...</td>\n",
       "    </tr>\n",
       "    <tr>\n",
       "      <th>7555</th>\n",
       "      <td>4.012419</td>\n",
       "      <td>4.468635</td>\n",
       "      <td>1.062660</td>\n",
       "      <td>2.567856</td>\n",
       "      <td>3.581489</td>\n",
       "      <td>10.473639</td>\n",
       "      <td>7.054012</td>\n",
       "      <td>0.939904</td>\n",
       "      <td>1.920890</td>\n",
       "      <td>5.725005</td>\n",
       "      <td>...</td>\n",
       "      <td>15.300746</td>\n",
       "      <td>1.237110</td>\n",
       "      <td>2.640684</td>\n",
       "      <td>3.060937</td>\n",
       "      <td>2.054734</td>\n",
       "      <td>4.047929</td>\n",
       "      <td>15.676396</td>\n",
       "      <td>2.406130</td>\n",
       "      <td>5.040041</td>\n",
       "      <td>1.122323</td>\n",
       "    </tr>\n",
       "    <tr>\n",
       "      <th>7556</th>\n",
       "      <td>4.018256</td>\n",
       "      <td>4.444172</td>\n",
       "      <td>1.068536</td>\n",
       "      <td>2.585991</td>\n",
       "      <td>3.619761</td>\n",
       "      <td>10.493891</td>\n",
       "      <td>7.068826</td>\n",
       "      <td>0.934409</td>\n",
       "      <td>1.916282</td>\n",
       "      <td>5.754785</td>\n",
       "      <td>...</td>\n",
       "      <td>15.107034</td>\n",
       "      <td>1.254143</td>\n",
       "      <td>2.684188</td>\n",
       "      <td>3.067280</td>\n",
       "      <td>2.059880</td>\n",
       "      <td>4.130548</td>\n",
       "      <td>15.541115</td>\n",
       "      <td>2.375655</td>\n",
       "      <td>5.051790</td>\n",
       "      <td>1.125933</td>\n",
       "    </tr>\n",
       "    <tr>\n",
       "      <th>7557</th>\n",
       "      <td>4.097332</td>\n",
       "      <td>4.471002</td>\n",
       "      <td>1.072772</td>\n",
       "      <td>2.579126</td>\n",
       "      <td>3.562126</td>\n",
       "      <td>10.255733</td>\n",
       "      <td>7.085590</td>\n",
       "      <td>0.928943</td>\n",
       "      <td>1.900226</td>\n",
       "      <td>5.831565</td>\n",
       "      <td>...</td>\n",
       "      <td>15.060310</td>\n",
       "      <td>1.262942</td>\n",
       "      <td>2.677586</td>\n",
       "      <td>3.062323</td>\n",
       "      <td>2.079998</td>\n",
       "      <td>4.164363</td>\n",
       "      <td>15.444363</td>\n",
       "      <td>2.335288</td>\n",
       "      <td>5.046507</td>\n",
       "      <td>1.126643</td>\n",
       "    </tr>\n",
       "    <tr>\n",
       "      <th>7558</th>\n",
       "      <td>4.044875</td>\n",
       "      <td>4.509248</td>\n",
       "      <td>1.063157</td>\n",
       "      <td>2.581420</td>\n",
       "      <td>3.516271</td>\n",
       "      <td>10.201714</td>\n",
       "      <td>7.060618</td>\n",
       "      <td>0.928088</td>\n",
       "      <td>1.890895</td>\n",
       "      <td>5.783425</td>\n",
       "      <td>...</td>\n",
       "      <td>14.889220</td>\n",
       "      <td>1.264269</td>\n",
       "      <td>2.704423</td>\n",
       "      <td>3.069973</td>\n",
       "      <td>2.098682</td>\n",
       "      <td>4.232992</td>\n",
       "      <td>15.435113</td>\n",
       "      <td>2.359163</td>\n",
       "      <td>5.073103</td>\n",
       "      <td>1.126346</td>\n",
       "    </tr>\n",
       "    <tr>\n",
       "      <th>7559</th>\n",
       "      <td>4.063217</td>\n",
       "      <td>4.486550</td>\n",
       "      <td>1.063955</td>\n",
       "      <td>2.626715</td>\n",
       "      <td>3.504131</td>\n",
       "      <td>10.146859</td>\n",
       "      <td>7.144189</td>\n",
       "      <td>0.934258</td>\n",
       "      <td>1.891028</td>\n",
       "      <td>5.785017</td>\n",
       "      <td>...</td>\n",
       "      <td>14.948356</td>\n",
       "      <td>1.271003</td>\n",
       "      <td>2.677686</td>\n",
       "      <td>3.088425</td>\n",
       "      <td>2.088763</td>\n",
       "      <td>4.197640</td>\n",
       "      <td>15.625177</td>\n",
       "      <td>2.391250</td>\n",
       "      <td>5.091510</td>\n",
       "      <td>1.133512</td>\n",
       "    </tr>\n",
       "  </tbody>\n",
       "</table>\n",
       "<p>7560 rows × 500 columns</p>\n",
       "</div>"
      ],
      "text/plain": [
       "           0         1         2         3         4          5         6    \\\n",
       "0     1.005150  0.994094  0.999396  1.011805  0.997292   0.991508  1.010704   \n",
       "1     1.008845  0.997686  1.004092  1.019320  0.995431   0.981939  1.004540   \n",
       "2     1.000708  1.004839  1.006150  1.005955  0.998262   0.983312  1.004812   \n",
       "3     1.003036  1.009698  1.016987  1.006134  0.995995   0.977443  1.009215   \n",
       "4     0.995508  1.009819  1.020680  0.995073  0.979475   0.971288  1.011147   \n",
       "...        ...       ...       ...       ...       ...        ...       ...   \n",
       "7555  4.012419  4.468635  1.062660  2.567856  3.581489  10.473639  7.054012   \n",
       "7556  4.018256  4.444172  1.068536  2.585991  3.619761  10.493891  7.068826   \n",
       "7557  4.097332  4.471002  1.072772  2.579126  3.562126  10.255733  7.085590   \n",
       "7558  4.044875  4.509248  1.063157  2.581420  3.516271  10.201714  7.060618   \n",
       "7559  4.063217  4.486550  1.063955  2.626715  3.504131  10.146859  7.144189   \n",
       "\n",
       "           7         8         9    ...        490       491       492  \\\n",
       "0     1.013144  1.003533  1.015208  ...   0.996903  1.012747  0.999810   \n",
       "1     0.999767  1.013496  1.008267  ...   1.008226  0.991695  0.997429   \n",
       "2     0.993495  1.008022  1.003646  ...   1.006166  1.011525  0.980199   \n",
       "3     1.001427  1.005973  1.023743  ...   0.999298  1.014601  0.986929   \n",
       "4     0.990315  1.005572  1.022094  ...   0.991701  1.015250  0.983077   \n",
       "...        ...       ...       ...  ...        ...       ...       ...   \n",
       "7555  0.939904  1.920890  5.725005  ...  15.300746  1.237110  2.640684   \n",
       "7556  0.934409  1.916282  5.754785  ...  15.107034  1.254143  2.684188   \n",
       "7557  0.928943  1.900226  5.831565  ...  15.060310  1.262942  2.677586   \n",
       "7558  0.928088  1.890895  5.783425  ...  14.889220  1.264269  2.704423   \n",
       "7559  0.934258  1.891028  5.785017  ...  14.948356  1.271003  2.677686   \n",
       "\n",
       "           493       494       495        496       497       498       499  \n",
       "0     0.995661  1.016325  1.010241   0.985631  1.000701  0.995741  0.990294  \n",
       "1     0.997516  1.019544  1.006906   0.987766  1.000579  0.995383  0.980526  \n",
       "2     0.990911  1.025807  1.009907   0.998784  0.996535  0.998364  0.985739  \n",
       "3     0.986809  1.035282  1.014080   1.005441  0.986185  1.005309  0.978825  \n",
       "4     0.983305  1.024241  1.023786   1.005708  0.995406  1.012154  0.984337  \n",
       "...        ...       ...       ...        ...       ...       ...       ...  \n",
       "7555  3.060937  2.054734  4.047929  15.676396  2.406130  5.040041  1.122323  \n",
       "7556  3.067280  2.059880  4.130548  15.541115  2.375655  5.051790  1.125933  \n",
       "7557  3.062323  2.079998  4.164363  15.444363  2.335288  5.046507  1.126643  \n",
       "7558  3.069973  2.098682  4.232992  15.435113  2.359163  5.073103  1.126346  \n",
       "7559  3.088425  2.088763  4.197640  15.625177  2.391250  5.091510  1.133512  \n",
       "\n",
       "[7560 rows x 500 columns]"
      ]
     },
     "execution_count": 13,
     "metadata": {},
     "output_type": "execute_result"
    }
   ],
   "source": [
    "%time\n",
    "#initialize variables\n",
    "next_beginning_balance = np.ones((1,500))\n",
    "Portfolio_30_year = np.ones((1,500))\n",
    "\n",
    "#monthly calculation\n",
    "for month in range(360):\n",
    "    \n",
    "    #re-initialize for each month\n",
    "    withdraw_rate = 0\n",
    "    withdraw_amount = 0\n",
    "    portfolio_monthly_return = np.zeros((22,500))\n",
    "    \n",
    "    #loop through each stock to get portfolio monthly return\n",
    "    for stock in range(portfolio_dimension[1]):\n",
    "        stock_month_daily_return = np.concatenate((next_beginning_balance,\n",
    "                                                   (globals()['stock_%s' % stock][month*21:(month+1)*21])+1), \n",
    "                                                  axis = 0)\n",
    "        portfolio_monthly_return += np.cumprod(stock_month_daily_return, axis = 0)*portfolio.iloc[2,stock]\n",
    "    \n",
    "    #get balance for rebalancing in next loop.\n",
    "    next_beginning_balance = (portfolio_monthly_return[-1,:]).reshape(1,500)\n",
    "    \n",
    "    #calculate balance for next year.\n",
    "    if withdraw_type != 'fixed amount':\n",
    "        if month%12==0 and month !=0:\n",
    "            withdraw_rate = input_withdraw_rate\n",
    "        next_beginning_balance = (portfolio_monthly_return[-1,:]).reshape(1,500)*(1-withdraw_rate)\n",
    "    else:\n",
    "        if month%12==0 and month !=0:\n",
    "            withdraw_amount = input_withdraw_amount\n",
    "        next_beginning_balance =(portfolio_monthly_return[-1,:]).reshape(1,500)-withdraw_amount\n",
    "\n",
    "    #concatenate for 30 year performance\n",
    "    Portfolio_30_year = np.concatenate((Portfolio_30_year,portfolio_monthly_return[1:,:]), axis = 0)\n",
    "Portfolio_30_year_simulation = pd.DataFrame(Portfolio_30_year[1:])\n",
    "Portfolio_30_year_simulation"
   ]
  },
  {
   "cell_type": "code",
   "execution_count": 14,
   "metadata": {},
   "outputs": [
    {
     "name": "stdout",
     "output_type": "stream",
     "text": [
      "CPU times: user 2 µs, sys: 1e+03 ns, total: 3 µs\n",
      "Wall time: 4.05 µs\n"
     ]
    },
    {
     "data": {
      "text/html": [
       "<div>\n",
       "<style scoped>\n",
       "    .dataframe tbody tr th:only-of-type {\n",
       "        vertical-align: middle;\n",
       "    }\n",
       "\n",
       "    .dataframe tbody tr th {\n",
       "        vertical-align: top;\n",
       "    }\n",
       "\n",
       "    .dataframe thead th {\n",
       "        text-align: right;\n",
       "    }\n",
       "</style>\n",
       "<table border=\"1\" class=\"dataframe\">\n",
       "  <thead>\n",
       "    <tr style=\"text-align: right;\">\n",
       "      <th></th>\n",
       "      <th>0</th>\n",
       "      <th>1</th>\n",
       "      <th>2</th>\n",
       "      <th>3</th>\n",
       "      <th>4</th>\n",
       "      <th>5</th>\n",
       "      <th>6</th>\n",
       "      <th>7</th>\n",
       "      <th>8</th>\n",
       "      <th>9</th>\n",
       "      <th>...</th>\n",
       "      <th>490</th>\n",
       "      <th>491</th>\n",
       "      <th>492</th>\n",
       "      <th>493</th>\n",
       "      <th>494</th>\n",
       "      <th>495</th>\n",
       "      <th>496</th>\n",
       "      <th>497</th>\n",
       "      <th>498</th>\n",
       "      <th>499</th>\n",
       "    </tr>\n",
       "  </thead>\n",
       "  <tbody>\n",
       "    <tr>\n",
       "      <th>0</th>\n",
       "      <td>1.005150</td>\n",
       "      <td>0.994094</td>\n",
       "      <td>0.999396</td>\n",
       "      <td>1.011805</td>\n",
       "      <td>0.997292</td>\n",
       "      <td>0.991508</td>\n",
       "      <td>1.010704</td>\n",
       "      <td>1.013144</td>\n",
       "      <td>1.003533</td>\n",
       "      <td>1.015208</td>\n",
       "      <td>...</td>\n",
       "      <td>0.996903</td>\n",
       "      <td>1.012747</td>\n",
       "      <td>0.999810</td>\n",
       "      <td>0.995661</td>\n",
       "      <td>1.016325</td>\n",
       "      <td>1.010241</td>\n",
       "      <td>0.985631</td>\n",
       "      <td>1.000701</td>\n",
       "      <td>0.995741</td>\n",
       "      <td>0.990294</td>\n",
       "    </tr>\n",
       "    <tr>\n",
       "      <th>1</th>\n",
       "      <td>1.008845</td>\n",
       "      <td>0.997686</td>\n",
       "      <td>1.004092</td>\n",
       "      <td>1.019320</td>\n",
       "      <td>0.995431</td>\n",
       "      <td>0.981939</td>\n",
       "      <td>1.004540</td>\n",
       "      <td>0.999767</td>\n",
       "      <td>1.013496</td>\n",
       "      <td>1.008267</td>\n",
       "      <td>...</td>\n",
       "      <td>1.008226</td>\n",
       "      <td>0.991695</td>\n",
       "      <td>0.997429</td>\n",
       "      <td>0.997516</td>\n",
       "      <td>1.019544</td>\n",
       "      <td>1.006906</td>\n",
       "      <td>0.987766</td>\n",
       "      <td>1.000579</td>\n",
       "      <td>0.995383</td>\n",
       "      <td>0.980526</td>\n",
       "    </tr>\n",
       "    <tr>\n",
       "      <th>2</th>\n",
       "      <td>1.000708</td>\n",
       "      <td>1.004839</td>\n",
       "      <td>1.006150</td>\n",
       "      <td>1.005955</td>\n",
       "      <td>0.998262</td>\n",
       "      <td>0.983312</td>\n",
       "      <td>1.004812</td>\n",
       "      <td>0.993495</td>\n",
       "      <td>1.008022</td>\n",
       "      <td>1.003646</td>\n",
       "      <td>...</td>\n",
       "      <td>1.006166</td>\n",
       "      <td>1.011525</td>\n",
       "      <td>0.980199</td>\n",
       "      <td>0.990911</td>\n",
       "      <td>1.025807</td>\n",
       "      <td>1.009907</td>\n",
       "      <td>0.998784</td>\n",
       "      <td>0.996535</td>\n",
       "      <td>0.998364</td>\n",
       "      <td>0.985739</td>\n",
       "    </tr>\n",
       "    <tr>\n",
       "      <th>3</th>\n",
       "      <td>1.003036</td>\n",
       "      <td>1.009698</td>\n",
       "      <td>1.016987</td>\n",
       "      <td>1.006134</td>\n",
       "      <td>0.995995</td>\n",
       "      <td>0.977443</td>\n",
       "      <td>1.009215</td>\n",
       "      <td>1.001427</td>\n",
       "      <td>1.005973</td>\n",
       "      <td>1.023743</td>\n",
       "      <td>...</td>\n",
       "      <td>0.999298</td>\n",
       "      <td>1.014601</td>\n",
       "      <td>0.986929</td>\n",
       "      <td>0.986809</td>\n",
       "      <td>1.035282</td>\n",
       "      <td>1.014080</td>\n",
       "      <td>1.005441</td>\n",
       "      <td>0.986185</td>\n",
       "      <td>1.005309</td>\n",
       "      <td>0.978825</td>\n",
       "    </tr>\n",
       "    <tr>\n",
       "      <th>4</th>\n",
       "      <td>0.995508</td>\n",
       "      <td>1.009819</td>\n",
       "      <td>1.020680</td>\n",
       "      <td>0.995073</td>\n",
       "      <td>0.979475</td>\n",
       "      <td>0.971288</td>\n",
       "      <td>1.011147</td>\n",
       "      <td>0.990315</td>\n",
       "      <td>1.005572</td>\n",
       "      <td>1.022094</td>\n",
       "      <td>...</td>\n",
       "      <td>0.991701</td>\n",
       "      <td>1.015250</td>\n",
       "      <td>0.983077</td>\n",
       "      <td>0.983305</td>\n",
       "      <td>1.024241</td>\n",
       "      <td>1.023786</td>\n",
       "      <td>1.005708</td>\n",
       "      <td>0.995406</td>\n",
       "      <td>1.012154</td>\n",
       "      <td>0.984337</td>\n",
       "    </tr>\n",
       "    <tr>\n",
       "      <th>...</th>\n",
       "      <td>...</td>\n",
       "      <td>...</td>\n",
       "      <td>...</td>\n",
       "      <td>...</td>\n",
       "      <td>...</td>\n",
       "      <td>...</td>\n",
       "      <td>...</td>\n",
       "      <td>...</td>\n",
       "      <td>...</td>\n",
       "      <td>...</td>\n",
       "      <td>...</td>\n",
       "      <td>...</td>\n",
       "      <td>...</td>\n",
       "      <td>...</td>\n",
       "      <td>...</td>\n",
       "      <td>...</td>\n",
       "      <td>...</td>\n",
       "      <td>...</td>\n",
       "      <td>...</td>\n",
       "      <td>...</td>\n",
       "      <td>...</td>\n",
       "    </tr>\n",
       "    <tr>\n",
       "      <th>7555</th>\n",
       "      <td>4.012419</td>\n",
       "      <td>4.468635</td>\n",
       "      <td>1.062660</td>\n",
       "      <td>2.567856</td>\n",
       "      <td>3.581489</td>\n",
       "      <td>10.473639</td>\n",
       "      <td>7.054012</td>\n",
       "      <td>0.939904</td>\n",
       "      <td>1.920890</td>\n",
       "      <td>5.725005</td>\n",
       "      <td>...</td>\n",
       "      <td>15.300746</td>\n",
       "      <td>1.237110</td>\n",
       "      <td>2.640684</td>\n",
       "      <td>3.060937</td>\n",
       "      <td>2.054734</td>\n",
       "      <td>4.047929</td>\n",
       "      <td>15.676396</td>\n",
       "      <td>2.406130</td>\n",
       "      <td>5.040041</td>\n",
       "      <td>1.122323</td>\n",
       "    </tr>\n",
       "    <tr>\n",
       "      <th>7556</th>\n",
       "      <td>4.018256</td>\n",
       "      <td>4.444172</td>\n",
       "      <td>1.068536</td>\n",
       "      <td>2.585991</td>\n",
       "      <td>3.619761</td>\n",
       "      <td>10.493891</td>\n",
       "      <td>7.068826</td>\n",
       "      <td>0.934409</td>\n",
       "      <td>1.916282</td>\n",
       "      <td>5.754785</td>\n",
       "      <td>...</td>\n",
       "      <td>15.107034</td>\n",
       "      <td>1.254143</td>\n",
       "      <td>2.684188</td>\n",
       "      <td>3.067280</td>\n",
       "      <td>2.059880</td>\n",
       "      <td>4.130548</td>\n",
       "      <td>15.541115</td>\n",
       "      <td>2.375655</td>\n",
       "      <td>5.051790</td>\n",
       "      <td>1.125933</td>\n",
       "    </tr>\n",
       "    <tr>\n",
       "      <th>7557</th>\n",
       "      <td>4.097332</td>\n",
       "      <td>4.471002</td>\n",
       "      <td>1.072772</td>\n",
       "      <td>2.579126</td>\n",
       "      <td>3.562126</td>\n",
       "      <td>10.255733</td>\n",
       "      <td>7.085590</td>\n",
       "      <td>0.928943</td>\n",
       "      <td>1.900226</td>\n",
       "      <td>5.831565</td>\n",
       "      <td>...</td>\n",
       "      <td>15.060310</td>\n",
       "      <td>1.262942</td>\n",
       "      <td>2.677586</td>\n",
       "      <td>3.062323</td>\n",
       "      <td>2.079998</td>\n",
       "      <td>4.164363</td>\n",
       "      <td>15.444363</td>\n",
       "      <td>2.335288</td>\n",
       "      <td>5.046507</td>\n",
       "      <td>1.126643</td>\n",
       "    </tr>\n",
       "    <tr>\n",
       "      <th>7558</th>\n",
       "      <td>4.044875</td>\n",
       "      <td>4.509248</td>\n",
       "      <td>1.063157</td>\n",
       "      <td>2.581420</td>\n",
       "      <td>3.516271</td>\n",
       "      <td>10.201714</td>\n",
       "      <td>7.060618</td>\n",
       "      <td>0.928088</td>\n",
       "      <td>1.890895</td>\n",
       "      <td>5.783425</td>\n",
       "      <td>...</td>\n",
       "      <td>14.889220</td>\n",
       "      <td>1.264269</td>\n",
       "      <td>2.704423</td>\n",
       "      <td>3.069973</td>\n",
       "      <td>2.098682</td>\n",
       "      <td>4.232992</td>\n",
       "      <td>15.435113</td>\n",
       "      <td>2.359163</td>\n",
       "      <td>5.073103</td>\n",
       "      <td>1.126346</td>\n",
       "    </tr>\n",
       "    <tr>\n",
       "      <th>7559</th>\n",
       "      <td>4.063217</td>\n",
       "      <td>4.486550</td>\n",
       "      <td>1.063955</td>\n",
       "      <td>2.626715</td>\n",
       "      <td>3.504131</td>\n",
       "      <td>10.146859</td>\n",
       "      <td>7.144189</td>\n",
       "      <td>0.934258</td>\n",
       "      <td>1.891028</td>\n",
       "      <td>5.785017</td>\n",
       "      <td>...</td>\n",
       "      <td>14.948356</td>\n",
       "      <td>1.271003</td>\n",
       "      <td>2.677686</td>\n",
       "      <td>3.088425</td>\n",
       "      <td>2.088763</td>\n",
       "      <td>4.197640</td>\n",
       "      <td>15.625177</td>\n",
       "      <td>2.391250</td>\n",
       "      <td>5.091510</td>\n",
       "      <td>1.133512</td>\n",
       "    </tr>\n",
       "  </tbody>\n",
       "</table>\n",
       "<p>7560 rows × 500 columns</p>\n",
       "</div>"
      ],
      "text/plain": [
       "           0         1         2         3         4          5         6    \\\n",
       "0     1.005150  0.994094  0.999396  1.011805  0.997292   0.991508  1.010704   \n",
       "1     1.008845  0.997686  1.004092  1.019320  0.995431   0.981939  1.004540   \n",
       "2     1.000708  1.004839  1.006150  1.005955  0.998262   0.983312  1.004812   \n",
       "3     1.003036  1.009698  1.016987  1.006134  0.995995   0.977443  1.009215   \n",
       "4     0.995508  1.009819  1.020680  0.995073  0.979475   0.971288  1.011147   \n",
       "...        ...       ...       ...       ...       ...        ...       ...   \n",
       "7555  4.012419  4.468635  1.062660  2.567856  3.581489  10.473639  7.054012   \n",
       "7556  4.018256  4.444172  1.068536  2.585991  3.619761  10.493891  7.068826   \n",
       "7557  4.097332  4.471002  1.072772  2.579126  3.562126  10.255733  7.085590   \n",
       "7558  4.044875  4.509248  1.063157  2.581420  3.516271  10.201714  7.060618   \n",
       "7559  4.063217  4.486550  1.063955  2.626715  3.504131  10.146859  7.144189   \n",
       "\n",
       "           7         8         9    ...        490       491       492  \\\n",
       "0     1.013144  1.003533  1.015208  ...   0.996903  1.012747  0.999810   \n",
       "1     0.999767  1.013496  1.008267  ...   1.008226  0.991695  0.997429   \n",
       "2     0.993495  1.008022  1.003646  ...   1.006166  1.011525  0.980199   \n",
       "3     1.001427  1.005973  1.023743  ...   0.999298  1.014601  0.986929   \n",
       "4     0.990315  1.005572  1.022094  ...   0.991701  1.015250  0.983077   \n",
       "...        ...       ...       ...  ...        ...       ...       ...   \n",
       "7555  0.939904  1.920890  5.725005  ...  15.300746  1.237110  2.640684   \n",
       "7556  0.934409  1.916282  5.754785  ...  15.107034  1.254143  2.684188   \n",
       "7557  0.928943  1.900226  5.831565  ...  15.060310  1.262942  2.677586   \n",
       "7558  0.928088  1.890895  5.783425  ...  14.889220  1.264269  2.704423   \n",
       "7559  0.934258  1.891028  5.785017  ...  14.948356  1.271003  2.677686   \n",
       "\n",
       "           493       494       495        496       497       498       499  \n",
       "0     0.995661  1.016325  1.010241   0.985631  1.000701  0.995741  0.990294  \n",
       "1     0.997516  1.019544  1.006906   0.987766  1.000579  0.995383  0.980526  \n",
       "2     0.990911  1.025807  1.009907   0.998784  0.996535  0.998364  0.985739  \n",
       "3     0.986809  1.035282  1.014080   1.005441  0.986185  1.005309  0.978825  \n",
       "4     0.983305  1.024241  1.023786   1.005708  0.995406  1.012154  0.984337  \n",
       "...        ...       ...       ...        ...       ...       ...       ...  \n",
       "7555  3.060937  2.054734  4.047929  15.676396  2.406130  5.040041  1.122323  \n",
       "7556  3.067280  2.059880  4.130548  15.541115  2.375655  5.051790  1.125933  \n",
       "7557  3.062323  2.079998  4.164363  15.444363  2.335288  5.046507  1.126643  \n",
       "7558  3.069973  2.098682  4.232992  15.435113  2.359163  5.073103  1.126346  \n",
       "7559  3.088425  2.088763  4.197640  15.625177  2.391250  5.091510  1.133512  \n",
       "\n",
       "[7560 rows x 500 columns]"
      ]
     },
     "execution_count": 14,
     "metadata": {},
     "output_type": "execute_result"
    }
   ],
   "source": [
    "%time \n",
    "\n",
    "#initialize variables\n",
    "next_beginning_balance = np.ones((1,500))\n",
    "Portfolio_30_year = np.ones((1,500))\n",
    "\n",
    "withdraw_amount = input_withdraw_amount\n",
    "withdraw_rate = input_withdraw_rate\n",
    "\n",
    "for year in range(30):\n",
    "    #initialize for each year\n",
    "    Portfolio_1_year = np.ones((1,500))\n",
    "    \n",
    "    for month in range(12):\n",
    "        #initialize for each month\n",
    "        portfolio_monthly_return = np.zeros((22,500))\n",
    "        for stock in range(portfolio_dimension[1]):\n",
    "            stock_month_daily_return = np.concatenate((next_beginning_balance,\n",
    "                                                       (globals()['stock_%s' % stock][year*12*21+month*21:year*12*21+(month+1)*21])+1), \n",
    "                                                      axis = 0)\n",
    "            portfolio_monthly_return += np.cumprod(stock_month_daily_return, axis = 0)*portfolio.iloc[2,stock]\n",
    "        \n",
    "        #get balance for rebalancing in next loop.\n",
    "        next_beginning_balance = (portfolio_monthly_return[-1,:]).reshape(1,500)\n",
    "        \n",
    "        Portfolio_1_year = np.concatenate((Portfolio_1_year,portfolio_monthly_return[1:,:]), axis = 0)\n",
    "\n",
    "    if withdraw_type != 'fixed amount':\n",
    "        withdraw_rate = input_withdraw_rate\n",
    "        next_beginning_balance = (portfolio_monthly_return[-1,:]).reshape(1,500)*(1-withdraw_rate)\n",
    "    else:\n",
    "        withdraw_amount = input_withdraw_amount\n",
    "        next_beginning_balance =(portfolio_monthly_return[-1,:]).reshape(1,500)-withdraw_amount\n",
    "    \n",
    "    Portfolio_30_year = np.concatenate((Portfolio_30_year,Portfolio_1_year[1:,:]), axis = 0)\n",
    "Portfolio_30_year_simulation = pd.DataFrame(Portfolio_30_year[1:])\n",
    "Portfolio_30_year_simulation"
   ]
  },
  {
   "cell_type": "code",
   "execution_count": 15,
   "metadata": {
    "collapsed": false,
    "deletable": true,
    "editable": true,
    "jupyter": {
     "outputs_hidden": false
    }
   },
   "outputs": [],
   "source": [
    "#filter for relevant years to retirment\n",
    "Portfolio_by_retirement = Portfolio_30_year_simulation.iloc[:years_to_retirement*252]\n",
    "Portfolio_by_retirement.shape\n",
    "daily_quantiles = Portfolio_by_retirement.quantile(q=(0.10,0.5,0.9), axis = 1).T"
   ]
  },
  {
   "cell_type": "code",
   "execution_count": 16,
   "metadata": {
    "collapsed": false,
    "deletable": true,
    "editable": true,
    "jupyter": {
     "outputs_hidden": false
    }
   },
   "outputs": [
    {
     "data": {
      "image/png": "[encoded data removed]",
      "text/plain": [
       "<Figure size 720x360 with 1 Axes>"
      ]
     },
     "metadata": {
      "needs_background": "light"
     },
     "output_type": "display_data"
    }
   ],
   "source": [
    "if withdraw_type == 'fixed amount':\n",
    "    withdraw_number = withdraw_amount\n",
    "else:\n",
    "    withdraw_number = withdraw_rate\n",
    "daily_quantiles.plot(title = f\"Withdraw {withdraw_type} by {withdraw_number} in {years_to_retirement} years.\", \n",
    "                     figsize=(10,5))\n",
    "plt.savefig(\"./financial_report_images/30_year_percentile.png\")"
   ]
  },
  {
   "cell_type": "code",
   "execution_count": 17,
   "metadata": {
    "collapsed": false,
    "deletable": true,
    "editable": true,
    "jupyter": {
     "outputs_hidden": false
    }
   },
   "outputs": [
    {
     "data": {
      "image/png": "[encoded data removed]",
      "text/plain": [
       "<Figure size 720x360 with 1 Axes>"
      ]
     },
     "metadata": {
      "needs_background": "light"
     },
     "output_type": "display_data"
    }
   ],
   "source": [
    "# Visualize the Simulation\n",
    "Portfolio_by_retirement.plot(legend = False, title = \"Portfolio 60 SPY / 40 AGG: $1\", figsize = (10,5))\n",
    "plt.savefig(\"./financial_report_images/simulation.png\")"
   ]
  },
  {
   "cell_type": "code",
   "execution_count": 18,
   "metadata": {
    "collapsed": false,
    "deletable": true,
    "editable": true,
    "jupyter": {
     "outputs_hidden": false
    }
   },
   "outputs": [
    {
     "name": "stdout",
     "output_type": "stream",
     "text": [
      "The 90% confidence interval of investment at retirement for $1 investment in portfolio is between $0 and $3.\n"
     ]
    },
    {
     "data": {
      "text/plain": [
       "<Figure size 432x288 with 0 Axes>"
      ]
     },
     "metadata": {},
     "output_type": "display_data"
    }
   ],
   "source": [
    "# Visualize the distribution of the ending returns\n",
    "plt.figure() # this is top-level container for all plot elements, make sure to close it when not suing any more.\n",
    "investment_ending_price = Portfolio_by_retirement.iloc[-1]\n",
    "quantile_result = investment_ending_price.quantile(q=[0.05, 0.95])\n",
    "print(f\"The 90% confidence interval of investment at retirement for $1 investment in portfolio \\\n",
    "is between ${int(quantile_result[0.05])} and ${int(quantile_result[.95])}.\")"
   ]
  },
  {
   "cell_type": "code",
   "execution_count": 19,
   "metadata": {
    "collapsed": false,
    "deletable": true,
    "editable": true,
    "jupyter": {
     "outputs_hidden": false
    }
   },
   "outputs": [
    {
     "data": {
      "image/png": "[encoded data removed]",
      "text/plain": [
       "<Figure size 432x288 with 1 Axes>"
      ]
     },
     "metadata": {
      "needs_background": "light"
     },
     "output_type": "display_data"
    }
   ],
   "source": [
    "investment_ending_price.plot(kind = 'hist', title=\"90% confidence interval for tails\")\n",
    "plt.axvline(quantile_result.iloc[0], color='r')\n",
    "plt.axvline(quantile_result.iloc[1], color='r')\n",
    "plt.savefig(\"./financial_report_images/confidence_level.png\")"
   ]
  },
  {
   "cell_type": "markdown",
   "metadata": {},
   "source": [
    "---"
   ]
  },
  {
   "cell_type": "code",
   "execution_count": null,
   "metadata": {},
   "outputs": [],
   "source": []
  },
  {
   "cell_type": "code",
   "execution_count": null,
   "metadata": {},
   "outputs": [],
   "source": []
  },
  {
   "cell_type": "code",
   "execution_count": null,
   "metadata": {},
   "outputs": [],
   "source": []
  },
  {
   "cell_type": "markdown",
   "metadata": {
    "deletable": true,
    "editable": true
   },
   "source": [
    "---"
   ]
  },
  {
   "cell_type": "markdown",
   "metadata": {
    "deletable": true,
    "editable": true
   },
   "source": [
    "# Retirement Analysis\n",
    "\n",
    "In this section, you will use the monte carlo model to answer the following retirement planning questions:\n",
    "\n",
    "1. What are the expected cumulative returns at 30 years for the 10th, 50th, and 90th percentiles?\n",
    "2. Given an initial investment of `$20,000`, what is the expected portfolio return in dollars at the 10th, 50th, and 90th percentiles?\n",
    "3. Given the current projected annual income from the Plaid analysis, will a 4% withdraw rate from the retirement portfolio meet or exceed that value at the 10th percentile?\n",
    "4. How would a 50% increase in the initial investment amount affect the 4% retirement withdrawal?"
   ]
  },
  {
   "cell_type": "markdown",
   "metadata": {
    "deletable": true,
    "editable": true
   },
   "source": [
    "### What are the expected cumulative returns at 30 years for the 10th, 50th, and 90th percentiles?"
   ]
  },
  {
   "cell_type": "code",
   "execution_count": 46,
   "metadata": {
    "deletable": true,
    "editable": true
   },
   "outputs": [],
   "source": [
    "# YOUR CODE HERE\n",
    "quantile_10_50_90=simulation_ending_price_30.quantile(q = [0.10,0.50,0.90])"
   ]
  },
  {
   "cell_type": "markdown",
   "metadata": {
    "deletable": true,
    "editable": true
   },
   "source": [
    "### Given an initial investment of `$20,000`, what is the expected portfolio return in dollars at the 10th, 50th, and 90th percentiles?"
   ]
  },
  {
   "cell_type": "code",
   "execution_count": 47,
   "metadata": {
    "collapsed": false,
    "deletable": true,
    "editable": true,
    "jupyter": {
     "outputs_hidden": false
    }
   },
   "outputs": [
    {
     "data": {
      "text/plain": [
       "0.1    10453\n",
       "0.5    18872\n",
       "0.9    31266\n",
       "Name: 7559, dtype: int64"
      ]
     },
     "execution_count": 47,
     "metadata": {},
     "output_type": "execute_result"
    }
   ],
   "source": [
    "initial_investment = 20_000\n",
    "return_10_50_90 = quantile_10_50_90*initial_investment\n",
    "return_10_50_90.astype(int)"
   ]
  },
  {
   "cell_type": "markdown",
   "metadata": {
    "deletable": true,
    "editable": true
   },
   "source": [
    "### Given the current projected annual income from the Plaid analysis, will a 4% withdraw rate from the retirement portfolio meet or exceed that value at the 10th percentile?\n",
    "\n",
    "Note: This is effectively saying that 90% of the expected returns will be greater than the return at the 10th percentile, so this can help measure the uncertainty about having enough funds at retirement"
   ]
  },
  {
   "cell_type": "code",
   "execution_count": 48,
   "metadata": {
    "deletable": true,
    "editable": true
   },
   "outputs": [],
   "source": [
    "def sufficient_fund(withdraw_rate, initial_investment, simulation_ending_price_30, plaid_projected_annual_income):\n",
    "    retirement_income = withdraw_rate * (initial_investment * simulation_ending_price_30.quantile(.1))\n",
    "    if retirement_income > plaid_projected_annual_income:\n",
    "        answer = \"exceeds\"\n",
    "    else:\n",
    "        answer = \"doesn't meet\"\n",
    "    return (f\"Your retirement income at 10th percentile and {withdraw_rate} withdraw is ${int(retirement_income)}, \\\n",
    "which {answer} meet current income ${plaid_projected_annual_income}.\")"
   ]
  },
  {
   "cell_type": "code",
   "execution_count": 49,
   "metadata": {
    "collapsed": false,
    "deletable": true,
    "editable": true,
    "jupyter": {
     "outputs_hidden": false
    }
   },
   "outputs": [
    {
     "name": "stdout",
     "output_type": "stream",
     "text": [
      "Your retirement income at 10th percentile and 0.04 withdraw is $418, which doesn't meet meet current income $7389.\n"
     ]
    }
   ],
   "source": [
    "withdraw_rate = 0.04\n",
    "initial_investment = 20000\n",
    "plaid_projected_annual_income = 7389\n",
    "print(sufficient_fund(withdraw_rate,initial_investment, simulation_ending_price_30,plaid_projected_annual_income))"
   ]
  },
  {
   "cell_type": "markdown",
   "metadata": {
    "deletable": true,
    "editable": true
   },
   "source": [
    "### How would a 50% increase in the initial investment amount affect the 4% retirement withdrawal?"
   ]
  },
  {
   "cell_type": "code",
   "execution_count": 50,
   "metadata": {
    "collapsed": false,
    "deletable": true,
    "editable": true,
    "jupyter": {
     "outputs_hidden": false
    }
   },
   "outputs": [
    {
     "name": "stdout",
     "output_type": "stream",
     "text": [
      "Your retirement income at 10th percentile and 0.04 withdraw is $627, which doesn't meet meet current income $7389.\n"
     ]
    }
   ],
   "source": [
    "initial_investment *= 1.5\n",
    "print(sufficient_fund(withdraw_rate,initial_investment, simulation_ending_price_30,plaid_projected_annual_income))"
   ]
  },
  {
   "cell_type": "markdown",
   "metadata": {
    "deletable": true,
    "editable": true
   },
   "source": [
    "### Optional Challenge\n",
    "\n",
    "In this section, you will calculate and plot the cumulative returns for the median and 90% confidence intervals. This plot shows the expected cumulative returns for any given day between the first day and the last day of investment. "
   ]
  },
  {
   "cell_type": "code",
   "execution_count": null,
   "metadata": {},
   "outputs": [],
   "source": []
  },
  {
   "cell_type": "code",
   "execution_count": null,
   "metadata": {},
   "outputs": [],
   "source": []
  },
  {
   "cell_type": "code",
   "execution_count": null,
   "metadata": {},
   "outputs": [],
   "source": []
  }
 ],
 "metadata": {
  "kernel_info": {
   "name": "dev"
  },
  "kernelspec": {
   "display_name": "Python 3",
   "language": "python",
   "name": "python3"
  },
  "language_info": {
   "codemirror_mode": {
    "name": "ipython",
    "version": 3
   },
   "file_extension": ".py",
   "mimetype": "text/x-python",
   "name": "python",
   "nbconvert_exporter": "python",
   "pygments_lexer": "ipython3",
   "version": "3.7.4"
  },
  "nteract": {
   "version": "0.12.3"
  }
 },
 "nbformat": 4,
 "nbformat_minor": 4
}
